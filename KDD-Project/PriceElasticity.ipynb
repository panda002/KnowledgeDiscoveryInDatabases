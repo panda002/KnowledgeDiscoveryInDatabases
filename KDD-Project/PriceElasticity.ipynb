{
 "cells": [
  {
   "cell_type": "markdown",
   "metadata": {},
   "source": [
    "# Analysis on Price Elasticity"
   ]
  },
  {
   "cell_type": "markdown",
   "metadata": {},
   "source": [
    "## Exploratory Data Analysis\n",
    "When approaching a data mining problem, a data mining analyst will have a priori hypothesis (one formed beforehand) that he or she would like to test regarding the relationships between variables. However, analysts do not always have these notions of the expected relationships among variables. When given an unknown large database, analysts often prefer to use Exploratory Data Analysis(EDA) or graphical analysis to understand the data.\n",
    "\n",
    "### EDA \n",
    "Allows the analyst to identify the interesting subsets of the observations\n",
    "and develop an initial idea of possible associations among the predictors, as well as between the predictors and target variable."
   ]
  },
  {
   "cell_type": "code",
   "execution_count": 1,
   "metadata": {
    "ExecuteTime": {
     "end_time": "2019-11-10T15:02:08.591430Z",
     "start_time": "2019-11-10T15:02:07.159613Z"
    }
   },
   "outputs": [],
   "source": [
    "import pandas as pd\n",
    "from pandas.plotting import scatter_matrix\n",
    "import matplotlib.pyplot as plt\n",
    "import numpy as np\n",
    "from sklearn import datasets, model_selection\n",
    "import warnings\n",
    "warnings.filterwarnings('ignore')\n",
    "from sklearn import model_selection\n",
    "import seaborn as sns\n",
    "from scipy import stats\n",
    "import matplotlib.pyplot as plt"
   ]
  },
  {
   "cell_type": "code",
   "execution_count": 2,
   "metadata": {
    "ExecuteTime": {
     "end_time": "2019-11-10T15:02:09.155988Z",
     "start_time": "2019-11-10T15:02:08.591430Z"
    }
   },
   "outputs": [],
   "source": [
    "ecom_data = pd.read_csv('DatafinitiElectronicsProductsPricingData.csv')"
   ]
  },
  {
   "cell_type": "code",
   "execution_count": 3,
   "metadata": {
    "ExecuteTime": {
     "end_time": "2019-11-10T15:02:09.176791Z",
     "start_time": "2019-11-10T15:02:09.156951Z"
    }
   },
   "outputs": [
    {
     "data": {
      "text/html": [
       "<div>\n",
       "<style scoped>\n",
       "    .dataframe tbody tr th:only-of-type {\n",
       "        vertical-align: middle;\n",
       "    }\n",
       "\n",
       "    .dataframe tbody tr th {\n",
       "        vertical-align: top;\n",
       "    }\n",
       "\n",
       "    .dataframe thead th {\n",
       "        text-align: right;\n",
       "    }\n",
       "</style>\n",
       "<table border=\"1\" class=\"dataframe\">\n",
       "  <thead>\n",
       "    <tr style=\"text-align: right;\">\n",
       "      <th></th>\n",
       "      <th>id</th>\n",
       "      <th>prices.amountMax</th>\n",
       "      <th>prices.amountMin</th>\n",
       "      <th>prices.availability</th>\n",
       "      <th>prices.condition</th>\n",
       "      <th>prices.currency</th>\n",
       "      <th>prices.dateSeen</th>\n",
       "      <th>prices.isSale</th>\n",
       "      <th>prices.merchant</th>\n",
       "      <th>prices.shipping</th>\n",
       "      <th>...</th>\n",
       "      <th>ean</th>\n",
       "      <th>imageURLs</th>\n",
       "      <th>keys</th>\n",
       "      <th>manufacturer</th>\n",
       "      <th>manufacturerNumber</th>\n",
       "      <th>name</th>\n",
       "      <th>primaryCategories</th>\n",
       "      <th>sourceURLs</th>\n",
       "      <th>upc</th>\n",
       "      <th>weight</th>\n",
       "    </tr>\n",
       "  </thead>\n",
       "  <tbody>\n",
       "    <tr>\n",
       "      <th>0</th>\n",
       "      <td>AVphzgbJLJeJML43fA0o</td>\n",
       "      <td>104.99</td>\n",
       "      <td>104.99</td>\n",
       "      <td>Yes</td>\n",
       "      <td>New</td>\n",
       "      <td>USD</td>\n",
       "      <td>2017-03-30T06:00:00Z,2017-03-10T22:00:00Z,2017...</td>\n",
       "      <td>False</td>\n",
       "      <td>Bestbuy.com</td>\n",
       "      <td>NaN</td>\n",
       "      <td>...</td>\n",
       "      <td>NaN</td>\n",
       "      <td>https://images-na.ssl-images-amazon.com/images...</td>\n",
       "      <td>sanusvlf410b110inchsuperslimfullmotionmountfor...</td>\n",
       "      <td>NaN</td>\n",
       "      <td>VLF410B1</td>\n",
       "      <td>Sanus VLF410B1 10-Inch Super Slim Full-Motion ...</td>\n",
       "      <td>Electronics</td>\n",
       "      <td>https://www.amazon.com/Sanus-VLF410B1-10-Inch-...</td>\n",
       "      <td>7.94E+11</td>\n",
       "      <td>32.8 pounds</td>\n",
       "    </tr>\n",
       "    <tr>\n",
       "      <th>1</th>\n",
       "      <td>AVpgMuGwLJeJML43KY_c</td>\n",
       "      <td>69.00</td>\n",
       "      <td>64.99</td>\n",
       "      <td>In Stock</td>\n",
       "      <td>New</td>\n",
       "      <td>USD</td>\n",
       "      <td>2017-12-14T06:00:00Z</td>\n",
       "      <td>True</td>\n",
       "      <td>Walmart.com</td>\n",
       "      <td>Expedited</td>\n",
       "      <td>...</td>\n",
       "      <td>NaN</td>\n",
       "      <td>https://images-na.ssl-images-amazon.com/images...</td>\n",
       "      <td>boytone2500w21chhometheatersystemblackdiamond/...</td>\n",
       "      <td>Boytone</td>\n",
       "      <td>BT-210F</td>\n",
       "      <td>Boytone - 2500W 2.1-Ch. Home Theater System - ...</td>\n",
       "      <td>Electronics</td>\n",
       "      <td>http://reviews.bestbuy.com/3545/4784804/review...</td>\n",
       "      <td>6.42E+11</td>\n",
       "      <td>14 pounds</td>\n",
       "    </tr>\n",
       "    <tr>\n",
       "      <th>2</th>\n",
       "      <td>AVpgMuGwLJeJML43KY_c</td>\n",
       "      <td>69.00</td>\n",
       "      <td>69.00</td>\n",
       "      <td>In Stock</td>\n",
       "      <td>New</td>\n",
       "      <td>USD</td>\n",
       "      <td>2017-09-08T05:00:00Z</td>\n",
       "      <td>False</td>\n",
       "      <td>Walmart.com</td>\n",
       "      <td>Expedited</td>\n",
       "      <td>...</td>\n",
       "      <td>NaN</td>\n",
       "      <td>https://images-na.ssl-images-amazon.com/images...</td>\n",
       "      <td>boytone2500w21chhometheatersystemblackdiamond/...</td>\n",
       "      <td>Boytone</td>\n",
       "      <td>BT-210F</td>\n",
       "      <td>Boytone - 2500W 2.1-Ch. Home Theater System - ...</td>\n",
       "      <td>Electronics</td>\n",
       "      <td>http://reviews.bestbuy.com/3545/4784804/review...</td>\n",
       "      <td>6.42E+11</td>\n",
       "      <td>14 pounds</td>\n",
       "    </tr>\n",
       "    <tr>\n",
       "      <th>3</th>\n",
       "      <td>AVpgMuGwLJeJML43KY_c</td>\n",
       "      <td>69.99</td>\n",
       "      <td>69.99</td>\n",
       "      <td>Yes</td>\n",
       "      <td>New</td>\n",
       "      <td>USD</td>\n",
       "      <td>2017-10-10T05:00:00Z</td>\n",
       "      <td>False</td>\n",
       "      <td>Bestbuy.com</td>\n",
       "      <td>NaN</td>\n",
       "      <td>...</td>\n",
       "      <td>NaN</td>\n",
       "      <td>https://images-na.ssl-images-amazon.com/images...</td>\n",
       "      <td>boytone2500w21chhometheatersystemblackdiamond/...</td>\n",
       "      <td>Boytone</td>\n",
       "      <td>BT-210F</td>\n",
       "      <td>Boytone - 2500W 2.1-Ch. Home Theater System - ...</td>\n",
       "      <td>Electronics</td>\n",
       "      <td>http://reviews.bestbuy.com/3545/4784804/review...</td>\n",
       "      <td>6.42E+11</td>\n",
       "      <td>14 pounds</td>\n",
       "    </tr>\n",
       "    <tr>\n",
       "      <th>4</th>\n",
       "      <td>AVpgMuGwLJeJML43KY_c</td>\n",
       "      <td>66.99</td>\n",
       "      <td>66.99</td>\n",
       "      <td>Yes</td>\n",
       "      <td>New</td>\n",
       "      <td>USD</td>\n",
       "      <td>2017-08-28T07:00:00Z</td>\n",
       "      <td>False</td>\n",
       "      <td>Bestbuy.com</td>\n",
       "      <td>NaN</td>\n",
       "      <td>...</td>\n",
       "      <td>NaN</td>\n",
       "      <td>https://images-na.ssl-images-amazon.com/images...</td>\n",
       "      <td>boytone2500w21chhometheatersystemblackdiamond/...</td>\n",
       "      <td>Boytone</td>\n",
       "      <td>BT-210F</td>\n",
       "      <td>Boytone - 2500W 2.1-Ch. Home Theater System - ...</td>\n",
       "      <td>Electronics</td>\n",
       "      <td>http://reviews.bestbuy.com/3545/4784804/review...</td>\n",
       "      <td>6.42E+11</td>\n",
       "      <td>14 pounds</td>\n",
       "    </tr>\n",
       "  </tbody>\n",
       "</table>\n",
       "<p>5 rows × 26 columns</p>\n",
       "</div>"
      ],
      "text/plain": [
       "                     id  prices.amountMax  prices.amountMin  \\\n",
       "0  AVphzgbJLJeJML43fA0o            104.99            104.99   \n",
       "1  AVpgMuGwLJeJML43KY_c             69.00             64.99   \n",
       "2  AVpgMuGwLJeJML43KY_c             69.00             69.00   \n",
       "3  AVpgMuGwLJeJML43KY_c             69.99             69.99   \n",
       "4  AVpgMuGwLJeJML43KY_c             66.99             66.99   \n",
       "\n",
       "  prices.availability prices.condition prices.currency  \\\n",
       "0                 Yes              New             USD   \n",
       "1            In Stock              New             USD   \n",
       "2            In Stock              New             USD   \n",
       "3                 Yes              New             USD   \n",
       "4                 Yes              New             USD   \n",
       "\n",
       "                                     prices.dateSeen  prices.isSale  \\\n",
       "0  2017-03-30T06:00:00Z,2017-03-10T22:00:00Z,2017...          False   \n",
       "1                               2017-12-14T06:00:00Z           True   \n",
       "2                               2017-09-08T05:00:00Z          False   \n",
       "3                               2017-10-10T05:00:00Z          False   \n",
       "4                               2017-08-28T07:00:00Z          False   \n",
       "\n",
       "  prices.merchant prices.shipping  ...  ean  \\\n",
       "0     Bestbuy.com             NaN  ...  NaN   \n",
       "1     Walmart.com       Expedited  ...  NaN   \n",
       "2     Walmart.com       Expedited  ...  NaN   \n",
       "3     Bestbuy.com             NaN  ...  NaN   \n",
       "4     Bestbuy.com             NaN  ...  NaN   \n",
       "\n",
       "                                           imageURLs  \\\n",
       "0  https://images-na.ssl-images-amazon.com/images...   \n",
       "1  https://images-na.ssl-images-amazon.com/images...   \n",
       "2  https://images-na.ssl-images-amazon.com/images...   \n",
       "3  https://images-na.ssl-images-amazon.com/images...   \n",
       "4  https://images-na.ssl-images-amazon.com/images...   \n",
       "\n",
       "                                                keys manufacturer  \\\n",
       "0  sanusvlf410b110inchsuperslimfullmotionmountfor...          NaN   \n",
       "1  boytone2500w21chhometheatersystemblackdiamond/...      Boytone   \n",
       "2  boytone2500w21chhometheatersystemblackdiamond/...      Boytone   \n",
       "3  boytone2500w21chhometheatersystemblackdiamond/...      Boytone   \n",
       "4  boytone2500w21chhometheatersystemblackdiamond/...      Boytone   \n",
       "\n",
       "  manufacturerNumber                                               name  \\\n",
       "0           VLF410B1  Sanus VLF410B1 10-Inch Super Slim Full-Motion ...   \n",
       "1            BT-210F  Boytone - 2500W 2.1-Ch. Home Theater System - ...   \n",
       "2            BT-210F  Boytone - 2500W 2.1-Ch. Home Theater System - ...   \n",
       "3            BT-210F  Boytone - 2500W 2.1-Ch. Home Theater System - ...   \n",
       "4            BT-210F  Boytone - 2500W 2.1-Ch. Home Theater System - ...   \n",
       "\n",
       "  primaryCategories                                         sourceURLs  \\\n",
       "0       Electronics  https://www.amazon.com/Sanus-VLF410B1-10-Inch-...   \n",
       "1       Electronics  http://reviews.bestbuy.com/3545/4784804/review...   \n",
       "2       Electronics  http://reviews.bestbuy.com/3545/4784804/review...   \n",
       "3       Electronics  http://reviews.bestbuy.com/3545/4784804/review...   \n",
       "4       Electronics  http://reviews.bestbuy.com/3545/4784804/review...   \n",
       "\n",
       "        upc       weight  \n",
       "0  7.94E+11  32.8 pounds  \n",
       "1  6.42E+11    14 pounds  \n",
       "2  6.42E+11    14 pounds  \n",
       "3  6.42E+11    14 pounds  \n",
       "4  6.42E+11    14 pounds  \n",
       "\n",
       "[5 rows x 26 columns]"
      ]
     },
     "execution_count": 3,
     "metadata": {},
     "output_type": "execute_result"
    }
   ],
   "source": [
    "ecom_data.head()"
   ]
  },
  {
   "cell_type": "code",
   "execution_count": 4,
   "metadata": {
    "ExecuteTime": {
     "end_time": "2019-11-10T15:02:09.195749Z",
     "start_time": "2019-11-10T15:02:09.177788Z"
    }
   },
   "outputs": [
    {
     "name": "stdout",
     "output_type": "stream",
     "text": [
      "<class 'pandas.core.frame.DataFrame'>\n",
      "RangeIndex: 7249 entries, 0 to 7248\n",
      "Data columns (total 26 columns):\n",
      "id                     7249 non-null object\n",
      "prices.amountMax       7249 non-null float64\n",
      "prices.amountMin       7249 non-null float64\n",
      "prices.availability    7249 non-null object\n",
      "prices.condition       7249 non-null object\n",
      "prices.currency        7249 non-null object\n",
      "prices.dateSeen        7249 non-null object\n",
      "prices.isSale          7249 non-null bool\n",
      "prices.merchant        7249 non-null object\n",
      "prices.shipping        4277 non-null object\n",
      "prices.sourceURLs      7249 non-null object\n",
      "asins                  7249 non-null object\n",
      "brand                  7249 non-null object\n",
      "categories             7249 non-null object\n",
      "dateAdded              7249 non-null object\n",
      "dateUpdated            7249 non-null object\n",
      "ean                    1543 non-null object\n",
      "imageURLs              7249 non-null object\n",
      "keys                   7249 non-null object\n",
      "manufacturer           3235 non-null object\n",
      "manufacturerNumber     7249 non-null object\n",
      "name                   7249 non-null object\n",
      "primaryCategories      7249 non-null object\n",
      "sourceURLs             7249 non-null object\n",
      "upc                    7249 non-null object\n",
      "weight                 7249 non-null object\n",
      "dtypes: bool(1), float64(2), object(23)\n",
      "memory usage: 1.4+ MB\n"
     ]
    }
   ],
   "source": [
    "#Summarize the dataset\n",
    "# Provides the number of rows and columns in a dataset. There are 26 columns in ecom_data dataset and a total of 7249 records.\n",
    "ecom_data.info()"
   ]
  },
  {
   "cell_type": "markdown",
   "metadata": {},
   "source": [
    "EAN - The EAN codes for this product. There may be more than one EAN in the list when a product has multiple variations,\n",
    "each using a different EAN.\n",
    "> we can drop the column since there will be no impact on the data modeling."
   ]
  },
  {
   "cell_type": "code",
   "execution_count": 5,
   "metadata": {
    "ExecuteTime": {
     "end_time": "2019-11-10T15:02:09.202720Z",
     "start_time": "2019-11-10T15:02:09.197734Z"
    }
   },
   "outputs": [
    {
     "name": "stdout",
     "output_type": "stream",
     "text": [
      "(7249, 26)\n"
     ]
    }
   ],
   "source": [
    "print(ecom_data.shape)"
   ]
  },
  {
   "cell_type": "code",
   "execution_count": 6,
   "metadata": {
    "ExecuteTime": {
     "end_time": "2019-11-10T15:02:09.219678Z",
     "start_time": "2019-11-10T15:02:09.204718Z"
    }
   },
   "outputs": [
    {
     "data": {
      "text/html": [
       "<div>\n",
       "<style scoped>\n",
       "    .dataframe tbody tr th:only-of-type {\n",
       "        vertical-align: middle;\n",
       "    }\n",
       "\n",
       "    .dataframe tbody tr th {\n",
       "        vertical-align: top;\n",
       "    }\n",
       "\n",
       "    .dataframe thead th {\n",
       "        text-align: right;\n",
       "    }\n",
       "</style>\n",
       "<table border=\"1\" class=\"dataframe\">\n",
       "  <thead>\n",
       "    <tr style=\"text-align: right;\">\n",
       "      <th></th>\n",
       "      <th>prices.amountMax</th>\n",
       "      <th>prices.amountMin</th>\n",
       "    </tr>\n",
       "  </thead>\n",
       "  <tbody>\n",
       "    <tr>\n",
       "      <th>count</th>\n",
       "      <td>7249.000000</td>\n",
       "      <td>7249.000000</td>\n",
       "    </tr>\n",
       "    <tr>\n",
       "      <th>mean</th>\n",
       "      <td>495.530610</td>\n",
       "      <td>463.963005</td>\n",
       "    </tr>\n",
       "    <tr>\n",
       "      <th>std</th>\n",
       "      <td>763.599387</td>\n",
       "      <td>680.504507</td>\n",
       "    </tr>\n",
       "    <tr>\n",
       "      <th>min</th>\n",
       "      <td>1.000000</td>\n",
       "      <td>1.000000</td>\n",
       "    </tr>\n",
       "    <tr>\n",
       "      <th>25%</th>\n",
       "      <td>79.990000</td>\n",
       "      <td>79.950000</td>\n",
       "    </tr>\n",
       "    <tr>\n",
       "      <th>50%</th>\n",
       "      <td>198.990000</td>\n",
       "      <td>189.990000</td>\n",
       "    </tr>\n",
       "    <tr>\n",
       "      <th>75%</th>\n",
       "      <td>494.990000</td>\n",
       "      <td>479.990000</td>\n",
       "    </tr>\n",
       "    <tr>\n",
       "      <th>max</th>\n",
       "      <td>6999.990000</td>\n",
       "      <td>5999.990000</td>\n",
       "    </tr>\n",
       "  </tbody>\n",
       "</table>\n",
       "</div>"
      ],
      "text/plain": [
       "       prices.amountMax  prices.amountMin\n",
       "count       7249.000000       7249.000000\n",
       "mean         495.530610        463.963005\n",
       "std          763.599387        680.504507\n",
       "min            1.000000          1.000000\n",
       "25%           79.990000         79.950000\n",
       "50%          198.990000        189.990000\n",
       "75%          494.990000        479.990000\n",
       "max         6999.990000       5999.990000"
      ]
     },
     "execution_count": 6,
     "metadata": {},
     "output_type": "execute_result"
    }
   ],
   "source": [
    "ecom_data.describe()"
   ]
  },
  {
   "cell_type": "code",
   "execution_count": 7,
   "metadata": {
    "ExecuteTime": {
     "end_time": "2019-11-10T15:02:09.241617Z",
     "start_time": "2019-11-10T15:02:09.223665Z"
    }
   },
   "outputs": [
    {
     "data": {
      "text/plain": [
       "id                        0\n",
       "prices.amountMax          0\n",
       "prices.amountMin          0\n",
       "prices.availability       0\n",
       "prices.condition          0\n",
       "prices.currency           0\n",
       "prices.dateSeen           0\n",
       "prices.isSale             0\n",
       "prices.merchant           0\n",
       "prices.shipping        2972\n",
       "prices.sourceURLs         0\n",
       "asins                     0\n",
       "brand                     0\n",
       "categories                0\n",
       "dateAdded                 0\n",
       "dateUpdated               0\n",
       "ean                    5706\n",
       "imageURLs                 0\n",
       "keys                      0\n",
       "manufacturer           4014\n",
       "manufacturerNumber        0\n",
       "name                      0\n",
       "primaryCategories         0\n",
       "sourceURLs                0\n",
       "upc                       0\n",
       "weight                    0\n",
       "dtype: int64"
      ]
     },
     "execution_count": 7,
     "metadata": {},
     "output_type": "execute_result"
    }
   ],
   "source": [
    "ecom_data.isnull().sum()"
   ]
  },
  {
   "cell_type": "markdown",
   "metadata": {},
   "source": [
    "### Analysis to be done to determine if the missing value columns are to be included in further analysis or not.\n",
    "\n",
    "> as per the https://developer.datafiniti.co/docs/product-data-schema description, prices.shipping is The shipping terms associated with this price. and if we see, the values include \"FREE shipping\" "
   ]
  },
  {
   "cell_type": "code",
   "execution_count": 8,
   "metadata": {
    "ExecuteTime": {
     "end_time": "2019-11-10T15:02:09.487870Z",
     "start_time": "2019-11-10T15:02:09.244612Z"
    }
   },
   "outputs": [
    {
     "data": {
      "image/png": "[encoded data removed]",
      "text/plain": [
       "<Figure size 576x288 with 2 Axes>"
      ]
     },
     "metadata": {
      "needs_background": "light"
     },
     "output_type": "display_data"
    }
   ],
   "source": [
    "plt.figure(figsize=(8,4))\n",
    "sns.heatmap(ecom_data.corr(),annot=True,cmap='cubehelix_r')\n",
    "plt.show()"
   ]
  },
  {
   "cell_type": "code",
   "execution_count": 9,
   "metadata": {
    "ExecuteTime": {
     "end_time": "2019-11-10T15:02:09.493844Z",
     "start_time": "2019-11-10T15:02:09.488835Z"
    }
   },
   "outputs": [],
   "source": [
    "ecom_data_new = ecom_data[['prices.amountMax','prices.amountMin','prices.condition','prices.isSale','prices.merchant','dateAdded','brand','manufacturer','name','primaryCategories']]"
   ]
  },
  {
   "cell_type": "code",
   "execution_count": 10,
   "metadata": {
    "ExecuteTime": {
     "end_time": "2019-11-10T15:02:09.510777Z",
     "start_time": "2019-11-10T15:02:09.494818Z"
    }
   },
   "outputs": [
    {
     "data": {
      "text/html": [
       "<div>\n",
       "<style scoped>\n",
       "    .dataframe tbody tr th:only-of-type {\n",
       "        vertical-align: middle;\n",
       "    }\n",
       "\n",
       "    .dataframe tbody tr th {\n",
       "        vertical-align: top;\n",
       "    }\n",
       "\n",
       "    .dataframe thead th {\n",
       "        text-align: right;\n",
       "    }\n",
       "</style>\n",
       "<table border=\"1\" class=\"dataframe\">\n",
       "  <thead>\n",
       "    <tr style=\"text-align: right;\">\n",
       "      <th></th>\n",
       "      <th>prices.amountMax</th>\n",
       "      <th>prices.amountMin</th>\n",
       "      <th>prices.condition</th>\n",
       "      <th>prices.isSale</th>\n",
       "      <th>prices.merchant</th>\n",
       "      <th>dateAdded</th>\n",
       "      <th>brand</th>\n",
       "      <th>manufacturer</th>\n",
       "      <th>name</th>\n",
       "      <th>primaryCategories</th>\n",
       "    </tr>\n",
       "  </thead>\n",
       "  <tbody>\n",
       "    <tr>\n",
       "      <th>0</th>\n",
       "      <td>104.99</td>\n",
       "      <td>104.99</td>\n",
       "      <td>New</td>\n",
       "      <td>False</td>\n",
       "      <td>Bestbuy.com</td>\n",
       "      <td>2015-04-13T12:00:51Z</td>\n",
       "      <td>Sanus</td>\n",
       "      <td>NaN</td>\n",
       "      <td>Sanus VLF410B1 10-Inch Super Slim Full-Motion ...</td>\n",
       "      <td>Electronics</td>\n",
       "    </tr>\n",
       "    <tr>\n",
       "      <th>1</th>\n",
       "      <td>69.00</td>\n",
       "      <td>64.99</td>\n",
       "      <td>New</td>\n",
       "      <td>True</td>\n",
       "      <td>Walmart.com</td>\n",
       "      <td>2015-05-18T14:14:56Z</td>\n",
       "      <td>Boytone</td>\n",
       "      <td>Boytone</td>\n",
       "      <td>Boytone - 2500W 2.1-Ch. Home Theater System - ...</td>\n",
       "      <td>Electronics</td>\n",
       "    </tr>\n",
       "    <tr>\n",
       "      <th>2</th>\n",
       "      <td>69.00</td>\n",
       "      <td>69.00</td>\n",
       "      <td>New</td>\n",
       "      <td>False</td>\n",
       "      <td>Walmart.com</td>\n",
       "      <td>2015-05-18T14:14:56Z</td>\n",
       "      <td>Boytone</td>\n",
       "      <td>Boytone</td>\n",
       "      <td>Boytone - 2500W 2.1-Ch. Home Theater System - ...</td>\n",
       "      <td>Electronics</td>\n",
       "    </tr>\n",
       "    <tr>\n",
       "      <th>3</th>\n",
       "      <td>69.99</td>\n",
       "      <td>69.99</td>\n",
       "      <td>New</td>\n",
       "      <td>False</td>\n",
       "      <td>Bestbuy.com</td>\n",
       "      <td>2015-05-18T14:14:56Z</td>\n",
       "      <td>Boytone</td>\n",
       "      <td>Boytone</td>\n",
       "      <td>Boytone - 2500W 2.1-Ch. Home Theater System - ...</td>\n",
       "      <td>Electronics</td>\n",
       "    </tr>\n",
       "    <tr>\n",
       "      <th>4</th>\n",
       "      <td>66.99</td>\n",
       "      <td>66.99</td>\n",
       "      <td>New</td>\n",
       "      <td>False</td>\n",
       "      <td>Bestbuy.com</td>\n",
       "      <td>2015-05-18T14:14:56Z</td>\n",
       "      <td>Boytone</td>\n",
       "      <td>Boytone</td>\n",
       "      <td>Boytone - 2500W 2.1-Ch. Home Theater System - ...</td>\n",
       "      <td>Electronics</td>\n",
       "    </tr>\n",
       "  </tbody>\n",
       "</table>\n",
       "</div>"
      ],
      "text/plain": [
       "   prices.amountMax  prices.amountMin prices.condition  prices.isSale  \\\n",
       "0            104.99            104.99              New          False   \n",
       "1             69.00             64.99              New           True   \n",
       "2             69.00             69.00              New          False   \n",
       "3             69.99             69.99              New          False   \n",
       "4             66.99             66.99              New          False   \n",
       "\n",
       "  prices.merchant             dateAdded    brand manufacturer  \\\n",
       "0     Bestbuy.com  2015-04-13T12:00:51Z    Sanus          NaN   \n",
       "1     Walmart.com  2015-05-18T14:14:56Z  Boytone      Boytone   \n",
       "2     Walmart.com  2015-05-18T14:14:56Z  Boytone      Boytone   \n",
       "3     Bestbuy.com  2015-05-18T14:14:56Z  Boytone      Boytone   \n",
       "4     Bestbuy.com  2015-05-18T14:14:56Z  Boytone      Boytone   \n",
       "\n",
       "                                                name primaryCategories  \n",
       "0  Sanus VLF410B1 10-Inch Super Slim Full-Motion ...       Electronics  \n",
       "1  Boytone - 2500W 2.1-Ch. Home Theater System - ...       Electronics  \n",
       "2  Boytone - 2500W 2.1-Ch. Home Theater System - ...       Electronics  \n",
       "3  Boytone - 2500W 2.1-Ch. Home Theater System - ...       Electronics  \n",
       "4  Boytone - 2500W 2.1-Ch. Home Theater System - ...       Electronics  "
      ]
     },
     "execution_count": 10,
     "metadata": {},
     "output_type": "execute_result"
    }
   ],
   "source": [
    "ecom_data_new.head()"
   ]
  },
  {
   "cell_type": "code",
   "execution_count": 11,
   "metadata": {
    "ExecuteTime": {
     "end_time": "2019-11-10T15:02:09.521779Z",
     "start_time": "2019-11-10T15:02:09.511773Z"
    }
   },
   "outputs": [
    {
     "name": "stdout",
     "output_type": "stream",
     "text": [
      "<class 'pandas.core.frame.DataFrame'>\n",
      "RangeIndex: 7249 entries, 0 to 7248\n",
      "Data columns (total 10 columns):\n",
      "prices.amountMax     7249 non-null float64\n",
      "prices.amountMin     7249 non-null float64\n",
      "prices.condition     7249 non-null object\n",
      "prices.isSale        7249 non-null bool\n",
      "prices.merchant      7249 non-null object\n",
      "dateAdded            7249 non-null object\n",
      "brand                7249 non-null object\n",
      "manufacturer         3235 non-null object\n",
      "name                 7249 non-null object\n",
      "primaryCategories    7249 non-null object\n",
      "dtypes: bool(1), float64(2), object(7)\n",
      "memory usage: 516.9+ KB\n"
     ]
    }
   ],
   "source": [
    "ecom_data_new.info()"
   ]
  },
  {
   "cell_type": "code",
   "execution_count": 12,
   "metadata": {
    "ExecuteTime": {
     "end_time": "2019-11-10T15:02:09.531720Z",
     "start_time": "2019-11-10T15:02:09.522743Z"
    }
   },
   "outputs": [
    {
     "data": {
      "text/plain": [
       "prices.amountMax        0\n",
       "prices.amountMin        0\n",
       "prices.condition        0\n",
       "prices.isSale           0\n",
       "prices.merchant         0\n",
       "dateAdded               0\n",
       "brand                   0\n",
       "manufacturer         4014\n",
       "name                    0\n",
       "primaryCategories       0\n",
       "dtype: int64"
      ]
     },
     "execution_count": 12,
     "metadata": {},
     "output_type": "execute_result"
    }
   ],
   "source": [
    "ecom_data_new.isnull().sum()\n",
    "# Since manufacturer and brand are the same, we can remove the manufacturer column"
   ]
  },
  {
   "cell_type": "code",
   "execution_count": 13,
   "metadata": {
    "ExecuteTime": {
     "end_time": "2019-11-10T15:02:09.538708Z",
     "start_time": "2019-11-10T15:02:09.532718Z"
    }
   },
   "outputs": [],
   "source": [
    "ecom_data_new = ecom_data_new.drop(['manufacturer'], axis=1)"
   ]
  },
  {
   "cell_type": "markdown",
   "metadata": {},
   "source": [
    "> We will be converting the columns values price.condition and price.isSale from string to boolean value 1 for True and 0 for False for easy manipulations and calculations"
   ]
  },
  {
   "cell_type": "code",
   "execution_count": 14,
   "metadata": {
    "ExecuteTime": {
     "end_time": "2019-11-10T15:02:09.550703Z",
     "start_time": "2019-11-10T15:02:09.540698Z"
    }
   },
   "outputs": [],
   "source": [
    "ecom_data_new[['prices.isSale', 'prices.condition']] = (ecom_data_new[['prices.isSale', 'prices.condition']] == 'TRUE').astype(int)\n",
    "\n",
    "#ecom_data_new.groupby('prices.merchant').transform('size') > 10"
   ]
  },
  {
   "cell_type": "code",
   "execution_count": 15,
   "metadata": {
    "ExecuteTime": {
     "end_time": "2019-11-10T15:02:09.561672Z",
     "start_time": "2019-11-10T15:02:09.551668Z"
    }
   },
   "outputs": [
    {
     "name": "stdout",
     "output_type": "stream",
     "text": [
      "<class 'pandas.core.frame.DataFrame'>\n",
      "RangeIndex: 7249 entries, 0 to 7248\n",
      "Data columns (total 9 columns):\n",
      "prices.amountMax     7249 non-null float64\n",
      "prices.amountMin     7249 non-null float64\n",
      "prices.condition     7249 non-null int32\n",
      "prices.isSale        7249 non-null int32\n",
      "prices.merchant      7249 non-null object\n",
      "dateAdded            7249 non-null object\n",
      "brand                7249 non-null object\n",
      "name                 7249 non-null object\n",
      "primaryCategories    7249 non-null object\n",
      "dtypes: float64(2), int32(2), object(5)\n",
      "memory usage: 453.1+ KB\n"
     ]
    }
   ],
   "source": [
    "ecom_data_new.info()\n",
    "# As we can now see that the datatype of the columns have changed to int data type"
   ]
  },
  {
   "cell_type": "code",
   "execution_count": 20,
   "metadata": {
    "ExecuteTime": {
     "end_time": "2019-11-10T23:38:46.837044Z",
     "start_time": "2019-11-10T23:38:46.801093Z"
    }
   },
   "outputs": [
    {
     "data": {
      "text/plain": [
       "prices.merchant\n",
       "Bestbuy.com                             2806\n",
       "bhphotovideo.com                        1509\n",
       "Walmart.com                              664\n",
       "Beach Camera                             201\n",
       "AMI Ventures Inc                          63\n",
       "buydig                                    53\n",
       "Focus Camera                              48\n",
       "gear4less                                 43\n",
       "echo-and-optics                           40\n",
       "Beach Audio Inc                           39\n",
       "Best Buy                                  38\n",
       "UnbeatableSale                            33\n",
       "DealClock                                 32\n",
       "electronic_express                        28\n",
       "World Wide Stereo                         28\n",
       "BuyVPC                                    27\n",
       "Electronics Expo (Authorized Dealer)      26\n",
       "Car Audio Closeout                        24\n",
       "Video & Audio Center                      19\n",
       "OneCall                                   18\n",
       "Electronic Express                        17\n",
       "wwstereo                                  16\n",
       "Dell.com                                  15\n",
       "The Pixel Hub                             15\n",
       "OutletPC                                  15\n",
       "antonline.com                             14\n",
       "DemProductSales                           14\n",
       "Newegg                                    13\n",
       "outletmp3                                 12\n",
       "Wholesale Connection                      12\n",
       "                                        ... \n",
       "discountparts99                            1\n",
       "discountcentralonline                      1\n",
       "directnetshopdeal                          1\n",
       "dinsdale-usa                               1\n",
       "dieg5651_8xrznj2zi                         1\n",
       "ewholesale2011                             1\n",
       "designerentrywayllc                        1\n",
       "dependix                                   1\n",
       "department75                               1\n",
       "delanodynasty                              1\n",
       "deals-all-year                             1\n",
       "daylighttechnologies                       1\n",
       "dmite30                                    1\n",
       "doitjust4fun                               1\n",
       "dr.pepper357                               1\n",
       "dream-seller                               1\n",
       "duck1648                                   1\n",
       "e-shopsave                                 1\n",
       "eGoodies                                   1\n",
       "eco-keeper7                                1\n",
       "edc-73                                     1\n",
       "efesales                                   1\n",
       "einfinityshop4                             1\n",
       "ejuky                                      1\n",
       "electric-flight-sales                      1\n",
       "elfxpress                                  1\n",
       "emeraldpg                                  1\n",
       "eternalphoto                               1\n",
       "evolving-technologies                      1\n",
       "1 Stop Electronics Center, Inc.            1\n",
       "Length: 693, dtype: int64"
      ]
     },
     "execution_count": 20,
     "metadata": {},
     "output_type": "execute_result"
    }
   ],
   "source": [
    "ecom_data_new.groupby('prices.merchant').size()\n",
    "# By sorting the data we can find the sources from which customers by most of the item and hearby removing the onces that wont impact our model.\n",
    "ecom_data_new.groupby('prices.merchant').size().sort_values(ascending=False)"
   ]
  },
  {
   "cell_type": "code",
   "execution_count": 25,
   "metadata": {
    "ExecuteTime": {
     "end_time": "2019-11-11T00:47:33.268877Z",
     "start_time": "2019-11-11T00:47:33.256893Z"
    }
   },
   "outputs": [],
   "source": [
    "output = ecom_data_new.groupby('prices.merchant').size().sort_values(ascending=False)"
   ]
  },
  {
   "cell_type": "code",
   "execution_count": 36,
   "metadata": {
    "ExecuteTime": {
     "end_time": "2019-11-11T03:42:46.572908Z",
     "start_time": "2019-11-11T03:42:46.565927Z"
    }
   },
   "outputs": [],
   "source": [
    "threshold_output = output[output>15]\n",
    "###"
   ]
  },
  {
   "cell_type": "markdown",
   "metadata": {},
   "source": [
    "> We have taken the websites from where people have purchased more than 15 times as per the data present in the data frame"
   ]
  },
  {
   "cell_type": "code",
   "execution_count": 35,
   "metadata": {
    "ExecuteTime": {
     "end_time": "2019-11-11T00:51:48.637059Z",
     "start_time": "2019-11-11T00:51:48.625046Z"
    }
   },
   "outputs": [
    {
     "data": {
      "text/plain": [
       "prices.merchant\n",
       "Bestbuy.com                             2806\n",
       "bhphotovideo.com                        1509\n",
       "Walmart.com                              664\n",
       "Beach Camera                             201\n",
       "AMI Ventures Inc                          63\n",
       "buydig                                    53\n",
       "Focus Camera                              48\n",
       "gear4less                                 43\n",
       "echo-and-optics                           40\n",
       "Beach Audio Inc                           39\n",
       "Best Buy                                  38\n",
       "UnbeatableSale                            33\n",
       "DealClock                                 32\n",
       "electronic_express                        28\n",
       "World Wide Stereo                         28\n",
       "BuyVPC                                    27\n",
       "Electronics Expo (Authorized Dealer)      26\n",
       "Car Audio Closeout                        24\n",
       "Video & Audio Center                      19\n",
       "OneCall                                   18\n",
       "Electronic Express                        17\n",
       "wwstereo                                  16\n",
       "dtype: int64"
      ]
     },
     "execution_count": 35,
     "metadata": {},
     "output_type": "execute_result"
    }
   ],
   "source": [
    "threshold_output"
   ]
  },
  {
   "cell_type": "code",
   "execution_count": null,
   "metadata": {},
   "outputs": [],
   "source": []
  }
 ],
 "metadata": {
  "kernelspec": {
   "display_name": "Python 3",
   "language": "python",
   "name": "python3"
  },
  "language_info": {
   "codemirror_mode": {
    "name": "ipython",
    "version": 3
   },
   "file_extension": ".py",
   "mimetype": "text/x-python",
   "name": "python",
   "nbconvert_exporter": "python",
   "pygments_lexer": "ipython3",
   "version": "3.7.3"
  },
  "varInspector": {
   "cols": {
    "lenName": 16,
    "lenType": 16,
    "lenVar": 40
   },
   "kernels_config": {
    "python": {
     "delete_cmd_postfix": "",
     "delete_cmd_prefix": "del ",
     "library": "var_list.py",
     "varRefreshCmd": "print(var_dic_list())"
    },
    "r": {
     "delete_cmd_postfix": ") ",
     "delete_cmd_prefix": "rm(",
     "library": "var_list.r",
     "varRefreshCmd": "cat(var_dic_list()) "
    }
   },
   "types_to_exclude": [
    "module",
    "function",
    "builtin_function_or_method",
    "instance",
    "_Feature"
   ],
   "window_display": false
  }
 },
 "nbformat": 4,
 "nbformat_minor": 4
}
