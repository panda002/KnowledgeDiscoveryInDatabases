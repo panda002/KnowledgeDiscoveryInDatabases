{
 "cells": [
  {
   "cell_type": "markdown",
   "metadata": {},
   "source": [
    "# Analysis on Price Elasticity"
   ]
  },
  {
   "cell_type": "markdown",
   "metadata": {},
   "source": [
    "## Exploratory Data Analysis\n",
    "When approaching a data mining problem, a data mining analyst will have a priori hypothesis (one formed beforehand) that he or she would like to test regarding the relationships between variables. However, analysts do not always have these notions of the expected relationships among variables. When given an unknown large database, analysts often prefer to use Exploratory Data Analysis(EDA) or graphical analysis to understand the data.\n",
    "\n",
    "### EDA \n",
    "Allows the analyst to identify the interesting subsets of the observations\n",
    "and develop an initial idea of possible associations among the predictors, as well as between the predictors and target variable."
   ]
  },
  {
   "cell_type": "code",
   "execution_count": 1,
   "metadata": {
    "ExecuteTime": {
     "end_time": "2019-12-11T17:08:21.024663Z",
     "start_time": "2019-12-11T17:08:17.126773Z"
    }
   },
   "outputs": [],
   "source": [
    "import pandas as pd\n",
    "from pandas.plotting import scatter_matrix\n",
    "import matplotlib.pyplot as plt\n",
    "import numpy as np\n",
    "from sklearn import datasets, model_selection\n",
    "import warnings\n",
    "warnings.filterwarnings('ignore')\n",
    "from sklearn import model_selection\n",
    "import seaborn as sns\n",
    "from scipy import stats\n",
    "import matplotlib.pyplot as plt"
   ]
  },
  {
   "cell_type": "code",
   "execution_count": 2,
   "metadata": {
    "ExecuteTime": {
     "end_time": "2019-12-11T17:08:21.907234Z",
     "start_time": "2019-12-11T17:08:21.027597Z"
    }
   },
   "outputs": [],
   "source": [
    "ecom_data = pd.read_csv('DatafinitiElectronicsProductsPricingData.csv')"
   ]
  },
  {
   "cell_type": "code",
   "execution_count": 3,
   "metadata": {
    "ExecuteTime": {
     "end_time": "2019-12-11T17:08:21.960053Z",
     "start_time": "2019-12-11T17:08:21.910221Z"
    },
    "scrolled": false
   },
   "outputs": [
    {
     "data": {
      "text/html": [
       "<div>\n",
       "<style scoped>\n",
       "    .dataframe tbody tr th:only-of-type {\n",
       "        vertical-align: middle;\n",
       "    }\n",
       "\n",
       "    .dataframe tbody tr th {\n",
       "        vertical-align: top;\n",
       "    }\n",
       "\n",
       "    .dataframe thead th {\n",
       "        text-align: right;\n",
       "    }\n",
       "</style>\n",
       "<table border=\"1\" class=\"dataframe\">\n",
       "  <thead>\n",
       "    <tr style=\"text-align: right;\">\n",
       "      <th></th>\n",
       "      <th>id</th>\n",
       "      <th>prices.amountMax</th>\n",
       "      <th>prices.amountMin</th>\n",
       "      <th>prices.availability</th>\n",
       "      <th>prices.condition</th>\n",
       "      <th>prices.currency</th>\n",
       "      <th>prices.dateSeen</th>\n",
       "      <th>prices.isSale</th>\n",
       "      <th>prices.merchant</th>\n",
       "      <th>prices.shipping</th>\n",
       "      <th>...</th>\n",
       "      <th>ean</th>\n",
       "      <th>imageURLs</th>\n",
       "      <th>keys</th>\n",
       "      <th>manufacturer</th>\n",
       "      <th>manufacturerNumber</th>\n",
       "      <th>name</th>\n",
       "      <th>primaryCategories</th>\n",
       "      <th>sourceURLs</th>\n",
       "      <th>upc</th>\n",
       "      <th>weight</th>\n",
       "    </tr>\n",
       "  </thead>\n",
       "  <tbody>\n",
       "    <tr>\n",
       "      <th>0</th>\n",
       "      <td>AVphzgbJLJeJML43fA0o</td>\n",
       "      <td>104.99</td>\n",
       "      <td>104.99</td>\n",
       "      <td>Yes</td>\n",
       "      <td>New</td>\n",
       "      <td>USD</td>\n",
       "      <td>2017-03-30T06:00:00Z,2017-03-10T22:00:00Z,2017...</td>\n",
       "      <td>False</td>\n",
       "      <td>Bestbuy.com</td>\n",
       "      <td>NaN</td>\n",
       "      <td>...</td>\n",
       "      <td>NaN</td>\n",
       "      <td>https://images-na.ssl-images-amazon.com/images...</td>\n",
       "      <td>sanusvlf410b110inchsuperslimfullmotionmountfor...</td>\n",
       "      <td>NaN</td>\n",
       "      <td>VLF410B1</td>\n",
       "      <td>Sanus VLF410B1 10-Inch Super Slim Full-Motion ...</td>\n",
       "      <td>Electronics</td>\n",
       "      <td>https://www.amazon.com/Sanus-VLF410B1-10-Inch-...</td>\n",
       "      <td>7.94E+11</td>\n",
       "      <td>32.8 pounds</td>\n",
       "    </tr>\n",
       "    <tr>\n",
       "      <th>1</th>\n",
       "      <td>AVpgMuGwLJeJML43KY_c</td>\n",
       "      <td>69.00</td>\n",
       "      <td>64.99</td>\n",
       "      <td>In Stock</td>\n",
       "      <td>New</td>\n",
       "      <td>USD</td>\n",
       "      <td>2017-12-14T06:00:00Z</td>\n",
       "      <td>True</td>\n",
       "      <td>Walmart.com</td>\n",
       "      <td>Expedited</td>\n",
       "      <td>...</td>\n",
       "      <td>NaN</td>\n",
       "      <td>https://images-na.ssl-images-amazon.com/images...</td>\n",
       "      <td>boytone2500w21chhometheatersystemblackdiamond/...</td>\n",
       "      <td>Boytone</td>\n",
       "      <td>BT-210F</td>\n",
       "      <td>Boytone - 2500W 2.1-Ch. Home Theater System - ...</td>\n",
       "      <td>Electronics</td>\n",
       "      <td>http://reviews.bestbuy.com/3545/4784804/review...</td>\n",
       "      <td>6.42E+11</td>\n",
       "      <td>14 pounds</td>\n",
       "    </tr>\n",
       "    <tr>\n",
       "      <th>2</th>\n",
       "      <td>AVpgMuGwLJeJML43KY_c</td>\n",
       "      <td>69.00</td>\n",
       "      <td>69.00</td>\n",
       "      <td>In Stock</td>\n",
       "      <td>New</td>\n",
       "      <td>USD</td>\n",
       "      <td>2017-09-08T05:00:00Z</td>\n",
       "      <td>False</td>\n",
       "      <td>Walmart.com</td>\n",
       "      <td>Expedited</td>\n",
       "      <td>...</td>\n",
       "      <td>NaN</td>\n",
       "      <td>https://images-na.ssl-images-amazon.com/images...</td>\n",
       "      <td>boytone2500w21chhometheatersystemblackdiamond/...</td>\n",
       "      <td>Boytone</td>\n",
       "      <td>BT-210F</td>\n",
       "      <td>Boytone - 2500W 2.1-Ch. Home Theater System - ...</td>\n",
       "      <td>Electronics</td>\n",
       "      <td>http://reviews.bestbuy.com/3545/4784804/review...</td>\n",
       "      <td>6.42E+11</td>\n",
       "      <td>14 pounds</td>\n",
       "    </tr>\n",
       "    <tr>\n",
       "      <th>3</th>\n",
       "      <td>AVpgMuGwLJeJML43KY_c</td>\n",
       "      <td>69.99</td>\n",
       "      <td>69.99</td>\n",
       "      <td>Yes</td>\n",
       "      <td>New</td>\n",
       "      <td>USD</td>\n",
       "      <td>2017-10-10T05:00:00Z</td>\n",
       "      <td>False</td>\n",
       "      <td>Bestbuy.com</td>\n",
       "      <td>NaN</td>\n",
       "      <td>...</td>\n",
       "      <td>NaN</td>\n",
       "      <td>https://images-na.ssl-images-amazon.com/images...</td>\n",
       "      <td>boytone2500w21chhometheatersystemblackdiamond/...</td>\n",
       "      <td>Boytone</td>\n",
       "      <td>BT-210F</td>\n",
       "      <td>Boytone - 2500W 2.1-Ch. Home Theater System - ...</td>\n",
       "      <td>Electronics</td>\n",
       "      <td>http://reviews.bestbuy.com/3545/4784804/review...</td>\n",
       "      <td>6.42E+11</td>\n",
       "      <td>14 pounds</td>\n",
       "    </tr>\n",
       "    <tr>\n",
       "      <th>4</th>\n",
       "      <td>AVpgMuGwLJeJML43KY_c</td>\n",
       "      <td>66.99</td>\n",
       "      <td>66.99</td>\n",
       "      <td>Yes</td>\n",
       "      <td>New</td>\n",
       "      <td>USD</td>\n",
       "      <td>2017-08-28T07:00:00Z</td>\n",
       "      <td>False</td>\n",
       "      <td>Bestbuy.com</td>\n",
       "      <td>NaN</td>\n",
       "      <td>...</td>\n",
       "      <td>NaN</td>\n",
       "      <td>https://images-na.ssl-images-amazon.com/images...</td>\n",
       "      <td>boytone2500w21chhometheatersystemblackdiamond/...</td>\n",
       "      <td>Boytone</td>\n",
       "      <td>BT-210F</td>\n",
       "      <td>Boytone - 2500W 2.1-Ch. Home Theater System - ...</td>\n",
       "      <td>Electronics</td>\n",
       "      <td>http://reviews.bestbuy.com/3545/4784804/review...</td>\n",
       "      <td>6.42E+11</td>\n",
       "      <td>14 pounds</td>\n",
       "    </tr>\n",
       "  </tbody>\n",
       "</table>\n",
       "<p>5 rows × 26 columns</p>\n",
       "</div>"
      ],
      "text/plain": [
       "                     id  prices.amountMax  prices.amountMin  \\\n",
       "0  AVphzgbJLJeJML43fA0o            104.99            104.99   \n",
       "1  AVpgMuGwLJeJML43KY_c             69.00             64.99   \n",
       "2  AVpgMuGwLJeJML43KY_c             69.00             69.00   \n",
       "3  AVpgMuGwLJeJML43KY_c             69.99             69.99   \n",
       "4  AVpgMuGwLJeJML43KY_c             66.99             66.99   \n",
       "\n",
       "  prices.availability prices.condition prices.currency  \\\n",
       "0                 Yes              New             USD   \n",
       "1            In Stock              New             USD   \n",
       "2            In Stock              New             USD   \n",
       "3                 Yes              New             USD   \n",
       "4                 Yes              New             USD   \n",
       "\n",
       "                                     prices.dateSeen  prices.isSale  \\\n",
       "0  2017-03-30T06:00:00Z,2017-03-10T22:00:00Z,2017...          False   \n",
       "1                               2017-12-14T06:00:00Z           True   \n",
       "2                               2017-09-08T05:00:00Z          False   \n",
       "3                               2017-10-10T05:00:00Z          False   \n",
       "4                               2017-08-28T07:00:00Z          False   \n",
       "\n",
       "  prices.merchant prices.shipping  ...  ean  \\\n",
       "0     Bestbuy.com             NaN  ...  NaN   \n",
       "1     Walmart.com       Expedited  ...  NaN   \n",
       "2     Walmart.com       Expedited  ...  NaN   \n",
       "3     Bestbuy.com             NaN  ...  NaN   \n",
       "4     Bestbuy.com             NaN  ...  NaN   \n",
       "\n",
       "                                           imageURLs  \\\n",
       "0  https://images-na.ssl-images-amazon.com/images...   \n",
       "1  https://images-na.ssl-images-amazon.com/images...   \n",
       "2  https://images-na.ssl-images-amazon.com/images...   \n",
       "3  https://images-na.ssl-images-amazon.com/images...   \n",
       "4  https://images-na.ssl-images-amazon.com/images...   \n",
       "\n",
       "                                                keys manufacturer  \\\n",
       "0  sanusvlf410b110inchsuperslimfullmotionmountfor...          NaN   \n",
       "1  boytone2500w21chhometheatersystemblackdiamond/...      Boytone   \n",
       "2  boytone2500w21chhometheatersystemblackdiamond/...      Boytone   \n",
       "3  boytone2500w21chhometheatersystemblackdiamond/...      Boytone   \n",
       "4  boytone2500w21chhometheatersystemblackdiamond/...      Boytone   \n",
       "\n",
       "  manufacturerNumber                                               name  \\\n",
       "0           VLF410B1  Sanus VLF410B1 10-Inch Super Slim Full-Motion ...   \n",
       "1            BT-210F  Boytone - 2500W 2.1-Ch. Home Theater System - ...   \n",
       "2            BT-210F  Boytone - 2500W 2.1-Ch. Home Theater System - ...   \n",
       "3            BT-210F  Boytone - 2500W 2.1-Ch. Home Theater System - ...   \n",
       "4            BT-210F  Boytone - 2500W 2.1-Ch. Home Theater System - ...   \n",
       "\n",
       "  primaryCategories                                         sourceURLs  \\\n",
       "0       Electronics  https://www.amazon.com/Sanus-VLF410B1-10-Inch-...   \n",
       "1       Electronics  http://reviews.bestbuy.com/3545/4784804/review...   \n",
       "2       Electronics  http://reviews.bestbuy.com/3545/4784804/review...   \n",
       "3       Electronics  http://reviews.bestbuy.com/3545/4784804/review...   \n",
       "4       Electronics  http://reviews.bestbuy.com/3545/4784804/review...   \n",
       "\n",
       "        upc       weight  \n",
       "0  7.94E+11  32.8 pounds  \n",
       "1  6.42E+11    14 pounds  \n",
       "2  6.42E+11    14 pounds  \n",
       "3  6.42E+11    14 pounds  \n",
       "4  6.42E+11    14 pounds  \n",
       "\n",
       "[5 rows x 26 columns]"
      ]
     },
     "execution_count": 3,
     "metadata": {},
     "output_type": "execute_result"
    }
   ],
   "source": [
    "ecom_data.head()"
   ]
  },
  {
   "cell_type": "code",
   "execution_count": 4,
   "metadata": {
    "ExecuteTime": {
     "end_time": "2019-12-11T17:08:21.992965Z",
     "start_time": "2019-12-11T17:08:21.963044Z"
    },
    "scrolled": false
   },
   "outputs": [
    {
     "name": "stdout",
     "output_type": "stream",
     "text": [
      "<class 'pandas.core.frame.DataFrame'>\n",
      "RangeIndex: 7249 entries, 0 to 7248\n",
      "Data columns (total 26 columns):\n",
      "id                     7249 non-null object\n",
      "prices.amountMax       7249 non-null float64\n",
      "prices.amountMin       7249 non-null float64\n",
      "prices.availability    7249 non-null object\n",
      "prices.condition       7249 non-null object\n",
      "prices.currency        7249 non-null object\n",
      "prices.dateSeen        7249 non-null object\n",
      "prices.isSale          7249 non-null bool\n",
      "prices.merchant        7249 non-null object\n",
      "prices.shipping        4277 non-null object\n",
      "prices.sourceURLs      7249 non-null object\n",
      "asins                  7249 non-null object\n",
      "brand                  7249 non-null object\n",
      "categories             7249 non-null object\n",
      "dateAdded              7249 non-null object\n",
      "dateUpdated            7249 non-null object\n",
      "ean                    1543 non-null object\n",
      "imageURLs              7249 non-null object\n",
      "keys                   7249 non-null object\n",
      "manufacturer           3235 non-null object\n",
      "manufacturerNumber     7249 non-null object\n",
      "name                   7249 non-null object\n",
      "primaryCategories      7249 non-null object\n",
      "sourceURLs             7249 non-null object\n",
      "upc                    7249 non-null object\n",
      "weight                 7249 non-null object\n",
      "dtypes: bool(1), float64(2), object(23)\n",
      "memory usage: 1.4+ MB\n"
     ]
    }
   ],
   "source": [
    "#Summarize the dataset\n",
    "# Provides the number of rows and columns in a dataset. There are 26 columns in ecom_data dataset and a total of 7249 records.\n",
    "ecom_data.info()"
   ]
  },
  {
   "cell_type": "markdown",
   "metadata": {},
   "source": [
    "EAN - The EAN codes for this product. There may be more than one EAN in the list when a product has multiple variations,\n",
    "each using a different EAN.\n",
    "> we can drop the column since there will be no impact on the data modeling."
   ]
  },
  {
   "cell_type": "code",
   "execution_count": 5,
   "metadata": {
    "ExecuteTime": {
     "end_time": "2019-12-11T17:08:22.000950Z",
     "start_time": "2019-12-11T17:08:21.995956Z"
    }
   },
   "outputs": [
    {
     "name": "stdout",
     "output_type": "stream",
     "text": [
      "(7249, 26)\n"
     ]
    }
   ],
   "source": [
    "print(ecom_data.shape)"
   ]
  },
  {
   "cell_type": "code",
   "execution_count": 6,
   "metadata": {
    "ExecuteTime": {
     "end_time": "2019-12-11T17:08:22.044826Z",
     "start_time": "2019-12-11T17:08:22.009919Z"
    }
   },
   "outputs": [
    {
     "data": {
      "text/html": [
       "<div>\n",
       "<style scoped>\n",
       "    .dataframe tbody tr th:only-of-type {\n",
       "        vertical-align: middle;\n",
       "    }\n",
       "\n",
       "    .dataframe tbody tr th {\n",
       "        vertical-align: top;\n",
       "    }\n",
       "\n",
       "    .dataframe thead th {\n",
       "        text-align: right;\n",
       "    }\n",
       "</style>\n",
       "<table border=\"1\" class=\"dataframe\">\n",
       "  <thead>\n",
       "    <tr style=\"text-align: right;\">\n",
       "      <th></th>\n",
       "      <th>prices.amountMax</th>\n",
       "      <th>prices.amountMin</th>\n",
       "    </tr>\n",
       "  </thead>\n",
       "  <tbody>\n",
       "    <tr>\n",
       "      <th>count</th>\n",
       "      <td>7249.000000</td>\n",
       "      <td>7249.000000</td>\n",
       "    </tr>\n",
       "    <tr>\n",
       "      <th>mean</th>\n",
       "      <td>495.530610</td>\n",
       "      <td>463.963005</td>\n",
       "    </tr>\n",
       "    <tr>\n",
       "      <th>std</th>\n",
       "      <td>763.599387</td>\n",
       "      <td>680.504507</td>\n",
       "    </tr>\n",
       "    <tr>\n",
       "      <th>min</th>\n",
       "      <td>1.000000</td>\n",
       "      <td>1.000000</td>\n",
       "    </tr>\n",
       "    <tr>\n",
       "      <th>25%</th>\n",
       "      <td>79.990000</td>\n",
       "      <td>79.950000</td>\n",
       "    </tr>\n",
       "    <tr>\n",
       "      <th>50%</th>\n",
       "      <td>198.990000</td>\n",
       "      <td>189.990000</td>\n",
       "    </tr>\n",
       "    <tr>\n",
       "      <th>75%</th>\n",
       "      <td>494.990000</td>\n",
       "      <td>479.990000</td>\n",
       "    </tr>\n",
       "    <tr>\n",
       "      <th>max</th>\n",
       "      <td>6999.990000</td>\n",
       "      <td>5999.990000</td>\n",
       "    </tr>\n",
       "  </tbody>\n",
       "</table>\n",
       "</div>"
      ],
      "text/plain": [
       "       prices.amountMax  prices.amountMin\n",
       "count       7249.000000       7249.000000\n",
       "mean         495.530610        463.963005\n",
       "std          763.599387        680.504507\n",
       "min            1.000000          1.000000\n",
       "25%           79.990000         79.950000\n",
       "50%          198.990000        189.990000\n",
       "75%          494.990000        479.990000\n",
       "max         6999.990000       5999.990000"
      ]
     },
     "execution_count": 6,
     "metadata": {},
     "output_type": "execute_result"
    }
   ],
   "source": [
    "ecom_data.describe()"
   ]
  },
  {
   "cell_type": "code",
   "execution_count": 7,
   "metadata": {
    "ExecuteTime": {
     "end_time": "2019-12-11T17:08:22.072751Z",
     "start_time": "2019-12-11T17:08:22.047819Z"
    },
    "scrolled": false
   },
   "outputs": [
    {
     "data": {
      "text/plain": [
       "id                        0\n",
       "prices.amountMax          0\n",
       "prices.amountMin          0\n",
       "prices.availability       0\n",
       "prices.condition          0\n",
       "prices.currency           0\n",
       "prices.dateSeen           0\n",
       "prices.isSale             0\n",
       "prices.merchant           0\n",
       "prices.shipping        2972\n",
       "prices.sourceURLs         0\n",
       "asins                     0\n",
       "brand                     0\n",
       "categories                0\n",
       "dateAdded                 0\n",
       "dateUpdated               0\n",
       "ean                    5706\n",
       "imageURLs                 0\n",
       "keys                      0\n",
       "manufacturer           4014\n",
       "manufacturerNumber        0\n",
       "name                      0\n",
       "primaryCategories         0\n",
       "sourceURLs                0\n",
       "upc                       0\n",
       "weight                    0\n",
       "dtype: int64"
      ]
     },
     "execution_count": 7,
     "metadata": {},
     "output_type": "execute_result"
    }
   ],
   "source": [
    "ecom_data.isnull().sum()"
   ]
  },
  {
   "cell_type": "markdown",
   "metadata": {},
   "source": [
    "### Analysis to be done to determine if the missing value columns are to be included in further analysis or not.\n",
    "\n",
    "> as per the https://developer.datafiniti.co/docs/product-data-schema description, prices.shipping is The shipping terms associated with this price. and if we see, the values include \"FREE shipping\" "
   ]
  },
  {
   "cell_type": "code",
   "execution_count": 8,
   "metadata": {
    "ExecuteTime": {
     "end_time": "2019-12-11T17:08:22.355137Z",
     "start_time": "2019-12-11T17:08:22.075743Z"
    },
    "scrolled": true
   },
   "outputs": [
    {
     "data": {
      "image/png": "[encoded data removed]",
      "text/plain": [
       "<Figure size 576x288 with 2 Axes>"
      ]
     },
     "metadata": {
      "needs_background": "light"
     },
     "output_type": "display_data"
    }
   ],
   "source": [
    "plt.figure(figsize=(8,4))\n",
    "sns.heatmap(ecom_data.corr(),annot=True,cmap='cubehelix_r')\n",
    "plt.show()"
   ]
  },
  {
   "cell_type": "code",
   "execution_count": 9,
   "metadata": {
    "ExecuteTime": {
     "end_time": "2019-12-11T17:08:22.368140Z",
     "start_time": "2019-12-11T17:08:22.358164Z"
    }
   },
   "outputs": [],
   "source": [
    "ecom_data_new = ecom_data[['prices.amountMax','prices.amountMin','prices.condition','prices.isSale','prices.merchant','dateAdded','brand','manufacturer','name','primaryCategories']]"
   ]
  },
  {
   "cell_type": "code",
   "execution_count": 10,
   "metadata": {
    "ExecuteTime": {
     "end_time": "2019-12-11T17:08:22.394057Z",
     "start_time": "2019-12-11T17:08:22.372093Z"
    },
    "scrolled": false
   },
   "outputs": [
    {
     "data": {
      "text/html": [
       "<div>\n",
       "<style scoped>\n",
       "    .dataframe tbody tr th:only-of-type {\n",
       "        vertical-align: middle;\n",
       "    }\n",
       "\n",
       "    .dataframe tbody tr th {\n",
       "        vertical-align: top;\n",
       "    }\n",
       "\n",
       "    .dataframe thead th {\n",
       "        text-align: right;\n",
       "    }\n",
       "</style>\n",
       "<table border=\"1\" class=\"dataframe\">\n",
       "  <thead>\n",
       "    <tr style=\"text-align: right;\">\n",
       "      <th></th>\n",
       "      <th>prices.amountMax</th>\n",
       "      <th>prices.amountMin</th>\n",
       "      <th>prices.condition</th>\n",
       "      <th>prices.isSale</th>\n",
       "      <th>prices.merchant</th>\n",
       "      <th>dateAdded</th>\n",
       "      <th>brand</th>\n",
       "      <th>manufacturer</th>\n",
       "      <th>name</th>\n",
       "      <th>primaryCategories</th>\n",
       "    </tr>\n",
       "  </thead>\n",
       "  <tbody>\n",
       "    <tr>\n",
       "      <th>0</th>\n",
       "      <td>104.99</td>\n",
       "      <td>104.99</td>\n",
       "      <td>New</td>\n",
       "      <td>False</td>\n",
       "      <td>Bestbuy.com</td>\n",
       "      <td>2015-04-13T12:00:51Z</td>\n",
       "      <td>Sanus</td>\n",
       "      <td>NaN</td>\n",
       "      <td>Sanus VLF410B1 10-Inch Super Slim Full-Motion ...</td>\n",
       "      <td>Electronics</td>\n",
       "    </tr>\n",
       "    <tr>\n",
       "      <th>1</th>\n",
       "      <td>69.00</td>\n",
       "      <td>64.99</td>\n",
       "      <td>New</td>\n",
       "      <td>True</td>\n",
       "      <td>Walmart.com</td>\n",
       "      <td>2015-05-18T14:14:56Z</td>\n",
       "      <td>Boytone</td>\n",
       "      <td>Boytone</td>\n",
       "      <td>Boytone - 2500W 2.1-Ch. Home Theater System - ...</td>\n",
       "      <td>Electronics</td>\n",
       "    </tr>\n",
       "    <tr>\n",
       "      <th>2</th>\n",
       "      <td>69.00</td>\n",
       "      <td>69.00</td>\n",
       "      <td>New</td>\n",
       "      <td>False</td>\n",
       "      <td>Walmart.com</td>\n",
       "      <td>2015-05-18T14:14:56Z</td>\n",
       "      <td>Boytone</td>\n",
       "      <td>Boytone</td>\n",
       "      <td>Boytone - 2500W 2.1-Ch. Home Theater System - ...</td>\n",
       "      <td>Electronics</td>\n",
       "    </tr>\n",
       "    <tr>\n",
       "      <th>3</th>\n",
       "      <td>69.99</td>\n",
       "      <td>69.99</td>\n",
       "      <td>New</td>\n",
       "      <td>False</td>\n",
       "      <td>Bestbuy.com</td>\n",
       "      <td>2015-05-18T14:14:56Z</td>\n",
       "      <td>Boytone</td>\n",
       "      <td>Boytone</td>\n",
       "      <td>Boytone - 2500W 2.1-Ch. Home Theater System - ...</td>\n",
       "      <td>Electronics</td>\n",
       "    </tr>\n",
       "    <tr>\n",
       "      <th>4</th>\n",
       "      <td>66.99</td>\n",
       "      <td>66.99</td>\n",
       "      <td>New</td>\n",
       "      <td>False</td>\n",
       "      <td>Bestbuy.com</td>\n",
       "      <td>2015-05-18T14:14:56Z</td>\n",
       "      <td>Boytone</td>\n",
       "      <td>Boytone</td>\n",
       "      <td>Boytone - 2500W 2.1-Ch. Home Theater System - ...</td>\n",
       "      <td>Electronics</td>\n",
       "    </tr>\n",
       "  </tbody>\n",
       "</table>\n",
       "</div>"
      ],
      "text/plain": [
       "   prices.amountMax  prices.amountMin prices.condition  prices.isSale  \\\n",
       "0            104.99            104.99              New          False   \n",
       "1             69.00             64.99              New           True   \n",
       "2             69.00             69.00              New          False   \n",
       "3             69.99             69.99              New          False   \n",
       "4             66.99             66.99              New          False   \n",
       "\n",
       "  prices.merchant             dateAdded    brand manufacturer  \\\n",
       "0     Bestbuy.com  2015-04-13T12:00:51Z    Sanus          NaN   \n",
       "1     Walmart.com  2015-05-18T14:14:56Z  Boytone      Boytone   \n",
       "2     Walmart.com  2015-05-18T14:14:56Z  Boytone      Boytone   \n",
       "3     Bestbuy.com  2015-05-18T14:14:56Z  Boytone      Boytone   \n",
       "4     Bestbuy.com  2015-05-18T14:14:56Z  Boytone      Boytone   \n",
       "\n",
       "                                                name primaryCategories  \n",
       "0  Sanus VLF410B1 10-Inch Super Slim Full-Motion ...       Electronics  \n",
       "1  Boytone - 2500W 2.1-Ch. Home Theater System - ...       Electronics  \n",
       "2  Boytone - 2500W 2.1-Ch. Home Theater System - ...       Electronics  \n",
       "3  Boytone - 2500W 2.1-Ch. Home Theater System - ...       Electronics  \n",
       "4  Boytone - 2500W 2.1-Ch. Home Theater System - ...       Electronics  "
      ]
     },
     "execution_count": 10,
     "metadata": {},
     "output_type": "execute_result"
    }
   ],
   "source": [
    "ecom_data_new.head()"
   ]
  },
  {
   "cell_type": "code",
   "execution_count": 11,
   "metadata": {
    "ExecuteTime": {
     "end_time": "2019-12-11T17:08:22.529671Z",
     "start_time": "2019-12-11T17:08:22.398027Z"
    },
    "scrolled": false
   },
   "outputs": [
    {
     "name": "stdout",
     "output_type": "stream",
     "text": [
      "<class 'pandas.core.frame.DataFrame'>\n",
      "RangeIndex: 7249 entries, 0 to 7248\n",
      "Data columns (total 10 columns):\n",
      "prices.amountMax     7249 non-null float64\n",
      "prices.amountMin     7249 non-null float64\n",
      "prices.condition     7249 non-null object\n",
      "prices.isSale        7249 non-null bool\n",
      "prices.merchant      7249 non-null object\n",
      "dateAdded            7249 non-null object\n",
      "brand                7249 non-null object\n",
      "manufacturer         3235 non-null object\n",
      "name                 7249 non-null object\n",
      "primaryCategories    7249 non-null object\n",
      "dtypes: bool(1), float64(2), object(7)\n",
      "memory usage: 516.9+ KB\n"
     ]
    },
    {
     "data": {
      "text/html": [
       "<div>\n",
       "<style scoped>\n",
       "    .dataframe tbody tr th:only-of-type {\n",
       "        vertical-align: middle;\n",
       "    }\n",
       "\n",
       "    .dataframe tbody tr th {\n",
       "        vertical-align: top;\n",
       "    }\n",
       "\n",
       "    .dataframe thead th {\n",
       "        text-align: right;\n",
       "    }\n",
       "</style>\n",
       "<table border=\"1\" class=\"dataframe\">\n",
       "  <thead>\n",
       "    <tr style=\"text-align: right;\">\n",
       "      <th></th>\n",
       "      <th>prices.amountMax</th>\n",
       "      <th>prices.amountMin</th>\n",
       "      <th>prices.condition</th>\n",
       "      <th>prices.isSale</th>\n",
       "      <th>prices.merchant</th>\n",
       "      <th>dateAdded</th>\n",
       "      <th>brand</th>\n",
       "      <th>manufacturer</th>\n",
       "      <th>name</th>\n",
       "      <th>primaryCategories</th>\n",
       "    </tr>\n",
       "  </thead>\n",
       "  <tbody>\n",
       "    <tr>\n",
       "      <th>0</th>\n",
       "      <td>104.99</td>\n",
       "      <td>104.99</td>\n",
       "      <td>New</td>\n",
       "      <td>False</td>\n",
       "      <td>Bestbuy.com</td>\n",
       "      <td>2015-04</td>\n",
       "      <td>Sanus</td>\n",
       "      <td>NaN</td>\n",
       "      <td>Sanus VLF410B1 10-Inch Super Slim Full-Motion ...</td>\n",
       "      <td>Electronics</td>\n",
       "    </tr>\n",
       "    <tr>\n",
       "      <th>1</th>\n",
       "      <td>69.00</td>\n",
       "      <td>64.99</td>\n",
       "      <td>New</td>\n",
       "      <td>True</td>\n",
       "      <td>Walmart.com</td>\n",
       "      <td>2015-05</td>\n",
       "      <td>Boytone</td>\n",
       "      <td>Boytone</td>\n",
       "      <td>Boytone - 2500W 2.1-Ch. Home Theater System - ...</td>\n",
       "      <td>Electronics</td>\n",
       "    </tr>\n",
       "    <tr>\n",
       "      <th>2</th>\n",
       "      <td>69.00</td>\n",
       "      <td>69.00</td>\n",
       "      <td>New</td>\n",
       "      <td>False</td>\n",
       "      <td>Walmart.com</td>\n",
       "      <td>2015-05</td>\n",
       "      <td>Boytone</td>\n",
       "      <td>Boytone</td>\n",
       "      <td>Boytone - 2500W 2.1-Ch. Home Theater System - ...</td>\n",
       "      <td>Electronics</td>\n",
       "    </tr>\n",
       "    <tr>\n",
       "      <th>3</th>\n",
       "      <td>69.99</td>\n",
       "      <td>69.99</td>\n",
       "      <td>New</td>\n",
       "      <td>False</td>\n",
       "      <td>Bestbuy.com</td>\n",
       "      <td>2015-05</td>\n",
       "      <td>Boytone</td>\n",
       "      <td>Boytone</td>\n",
       "      <td>Boytone - 2500W 2.1-Ch. Home Theater System - ...</td>\n",
       "      <td>Electronics</td>\n",
       "    </tr>\n",
       "    <tr>\n",
       "      <th>4</th>\n",
       "      <td>66.99</td>\n",
       "      <td>66.99</td>\n",
       "      <td>New</td>\n",
       "      <td>False</td>\n",
       "      <td>Bestbuy.com</td>\n",
       "      <td>2015-05</td>\n",
       "      <td>Boytone</td>\n",
       "      <td>Boytone</td>\n",
       "      <td>Boytone - 2500W 2.1-Ch. Home Theater System - ...</td>\n",
       "      <td>Electronics</td>\n",
       "    </tr>\n",
       "  </tbody>\n",
       "</table>\n",
       "</div>"
      ],
      "text/plain": [
       "   prices.amountMax  prices.amountMin prices.condition  prices.isSale  \\\n",
       "0            104.99            104.99              New          False   \n",
       "1             69.00             64.99              New           True   \n",
       "2             69.00             69.00              New          False   \n",
       "3             69.99             69.99              New          False   \n",
       "4             66.99             66.99              New          False   \n",
       "\n",
       "  prices.merchant dateAdded    brand manufacturer  \\\n",
       "0     Bestbuy.com   2015-04    Sanus          NaN   \n",
       "1     Walmart.com   2015-05  Boytone      Boytone   \n",
       "2     Walmart.com   2015-05  Boytone      Boytone   \n",
       "3     Bestbuy.com   2015-05  Boytone      Boytone   \n",
       "4     Bestbuy.com   2015-05  Boytone      Boytone   \n",
       "\n",
       "                                                name primaryCategories  \n",
       "0  Sanus VLF410B1 10-Inch Super Slim Full-Motion ...       Electronics  \n",
       "1  Boytone - 2500W 2.1-Ch. Home Theater System - ...       Electronics  \n",
       "2  Boytone - 2500W 2.1-Ch. Home Theater System - ...       Electronics  \n",
       "3  Boytone - 2500W 2.1-Ch. Home Theater System - ...       Electronics  \n",
       "4  Boytone - 2500W 2.1-Ch. Home Theater System - ...       Electronics  "
      ]
     },
     "execution_count": 11,
     "metadata": {},
     "output_type": "execute_result"
    }
   ],
   "source": [
    "ecom_data_new.info()\n",
    "\n",
    "def removeAfterComma(string):\n",
    "    \"\"\"\n",
    "    input is a string \n",
    "    output is a string with everything after comma removed\n",
    "    \"\"\"\n",
    "    return string.split('T')[0].strip()\n",
    "ecom_data_new.dateAdded = ecom_data_new.dateAdded.apply(removeAfterComma)\n",
    "ecom_data_new.head()\n",
    "\n",
    "#Reference ataken from \n",
    "#https://stackoverflow.com/questions/36300158/python-split-text-after-the-second-occurrence-of-character\n",
    "def hyphen_split(a):\n",
    "    if a.count(\"-\") == 1:\n",
    "        return a.split(\"-\")[0]\n",
    "    else:\n",
    "        return \"-\".join(a.split(\"-\", 2)[:2])\n",
    "    \n",
    "ecom_data_new.dateAdded = ecom_data_new.dateAdded.apply(hyphen_split)\n",
    "ecom_data_new.head()"
   ]
  },
  {
   "cell_type": "code",
   "execution_count": 12,
   "metadata": {
    "ExecuteTime": {
     "end_time": "2019-12-11T17:08:22.545644Z",
     "start_time": "2019-12-11T17:08:22.532663Z"
    },
    "scrolled": true
   },
   "outputs": [
    {
     "data": {
      "text/plain": [
       "prices.amountMax        0\n",
       "prices.amountMin        0\n",
       "prices.condition        0\n",
       "prices.isSale           0\n",
       "prices.merchant         0\n",
       "dateAdded               0\n",
       "brand                   0\n",
       "manufacturer         4014\n",
       "name                    0\n",
       "primaryCategories       0\n",
       "dtype: int64"
      ]
     },
     "execution_count": 12,
     "metadata": {},
     "output_type": "execute_result"
    }
   ],
   "source": [
    "ecom_data_new.isnull().sum()\n",
    "# Since manufacturer and brand are the same, we can remove the manufacturer column"
   ]
  },
  {
   "cell_type": "code",
   "execution_count": 13,
   "metadata": {
    "ExecuteTime": {
     "end_time": "2019-12-11T17:08:22.558652Z",
     "start_time": "2019-12-11T17:08:22.549635Z"
    }
   },
   "outputs": [],
   "source": [
    "ecom_data_new = ecom_data_new.drop(['manufacturer'], axis=1)"
   ]
  },
  {
   "cell_type": "markdown",
   "metadata": {},
   "source": [
    "> We will be converting the columns values price.condition and price.isSale from string to boolean value 1 for True and 0 for False for easy manipulations and calculations"
   ]
  },
  {
   "cell_type": "code",
   "execution_count": 14,
   "metadata": {
    "ExecuteTime": {
     "end_time": "2019-12-11T17:08:22.582530Z",
     "start_time": "2019-12-11T17:08:22.561586Z"
    },
    "scrolled": false
   },
   "outputs": [
    {
     "data": {
      "text/plain": [
       "prices.merchant\n",
       "Bestbuy.com                             2806\n",
       "bhphotovideo.com                        1509\n",
       "Walmart.com                              664\n",
       "Beach Camera                             201\n",
       "AMI Ventures Inc                          63\n",
       "buydig                                    53\n",
       "Focus Camera                              48\n",
       "gear4less                                 43\n",
       "echo-and-optics                           40\n",
       "Beach Audio Inc                           39\n",
       "Best Buy                                  38\n",
       "UnbeatableSale                            33\n",
       "DealClock                                 32\n",
       "electronic_express                        28\n",
       "World Wide Stereo                         28\n",
       "BuyVPC                                    27\n",
       "Electronics Expo (Authorized Dealer)      26\n",
       "Car Audio Closeout                        24\n",
       "Video & Audio Center                      19\n",
       "OneCall                                   18\n",
       "Electronic Express                        17\n",
       "wwstereo                                  16\n",
       "Dell.com                                  15\n",
       "The Pixel Hub                             15\n",
       "OutletPC                                  15\n",
       "antonline.com                             14\n",
       "DemProductSales                           14\n",
       "Newegg                                    13\n",
       "outletmp3                                 12\n",
       "Wholesale Connection                      12\n",
       "                                        ... \n",
       "discountparts99                            1\n",
       "discountcentralonline                      1\n",
       "directnetshopdeal                          1\n",
       "dinsdale-usa                               1\n",
       "dieg5651_8xrznj2zi                         1\n",
       "ewholesale2011                             1\n",
       "designerentrywayllc                        1\n",
       "dependix                                   1\n",
       "department75                               1\n",
       "delanodynasty                              1\n",
       "deals-all-year                             1\n",
       "daylighttechnologies                       1\n",
       "dmite30                                    1\n",
       "doitjust4fun                               1\n",
       "dr.pepper357                               1\n",
       "dream-seller                               1\n",
       "duck1648                                   1\n",
       "e-shopsave                                 1\n",
       "eGoodies                                   1\n",
       "eco-keeper7                                1\n",
       "edc-73                                     1\n",
       "efesales                                   1\n",
       "einfinityshop4                             1\n",
       "ejuky                                      1\n",
       "electric-flight-sales                      1\n",
       "elfxpress                                  1\n",
       "emeraldpg                                  1\n",
       "eternalphoto                               1\n",
       "evolving-technologies                      1\n",
       "1 Stop Electronics Center, Inc.            1\n",
       "Length: 693, dtype: int64"
      ]
     },
     "execution_count": 14,
     "metadata": {},
     "output_type": "execute_result"
    }
   ],
   "source": [
    "ecom_data_new.groupby('prices.merchant').size()\n",
    "# By sorting the data we can find the sources from which customers by most of the item and hearby removing the onces that wont impact our model.\n",
    "ecom_data_new.groupby('prices.merchant').size().sort_values(ascending=False)"
   ]
  },
  {
   "cell_type": "code",
   "execution_count": 15,
   "metadata": {
    "ExecuteTime": {
     "end_time": "2019-12-11T17:08:22.595530Z",
     "start_time": "2019-12-11T17:08:22.585522Z"
    }
   },
   "outputs": [],
   "source": [
    "output = ecom_data_new.groupby('prices.merchant').size().sort_values(ascending=False)"
   ]
  },
  {
   "cell_type": "code",
   "execution_count": 16,
   "metadata": {
    "ExecuteTime": {
     "end_time": "2019-12-11T17:08:22.615445Z",
     "start_time": "2019-12-11T17:08:22.599487Z"
    }
   },
   "outputs": [
    {
     "data": {
      "text/plain": [
       "prices.merchant\n",
       "Bestbuy.com                             2806\n",
       "bhphotovideo.com                        1509\n",
       "Walmart.com                              664\n",
       "Beach Camera                             201\n",
       "AMI Ventures Inc                          63\n",
       "buydig                                    53\n",
       "Focus Camera                              48\n",
       "gear4less                                 43\n",
       "echo-and-optics                           40\n",
       "Beach Audio Inc                           39\n",
       "Best Buy                                  38\n",
       "UnbeatableSale                            33\n",
       "DealClock                                 32\n",
       "electronic_express                        28\n",
       "World Wide Stereo                         28\n",
       "BuyVPC                                    27\n",
       "Electronics Expo (Authorized Dealer)      26\n",
       "Car Audio Closeout                        24\n",
       "Video & Audio Center                      19\n",
       "OneCall                                   18\n",
       "Electronic Express                        17\n",
       "wwstereo                                  16\n",
       "dtype: int64"
      ]
     },
     "execution_count": 16,
     "metadata": {},
     "output_type": "execute_result"
    }
   ],
   "source": [
    "threshold_output = output[output>15]\n",
    "threshold_output"
   ]
  },
  {
   "cell_type": "markdown",
   "metadata": {},
   "source": [
    "> We have taken the websites from where people have purchased more than 15 times as per the data present in the data frame"
   ]
  },
  {
   "cell_type": "code",
   "execution_count": 17,
   "metadata": {
    "ExecuteTime": {
     "end_time": "2019-12-11T17:08:22.626450Z",
     "start_time": "2019-12-11T17:08:22.618438Z"
    }
   },
   "outputs": [],
   "source": [
    "values = ['Bestbuy.com','bhphotovideo.com','Walmart.com,Beach Camera','AMI Ventures Inc','buydig','Focus Camera','gear4less','echo-and-optics','Beach Audio Inc','Best Buy','UnbeatableSale','DealClock','electronic_express','World Wide Stereo','BuyVPC','Electronics Expo (Authorized Dealer)','Car Audio Closeout','Video & Audio Center','OneCall','Electronic Express','wwstereo']"
   ]
  },
  {
   "cell_type": "code",
   "execution_count": 18,
   "metadata": {
    "ExecuteTime": {
     "end_time": "2019-12-11T17:08:22.647375Z",
     "start_time": "2019-12-11T17:08:22.637420Z"
    }
   },
   "outputs": [],
   "source": [
    "ecom_data_upd = ecom_data_new.loc[ecom_data_new['prices.merchant'].isin(values)]\n",
    "#ecom_data_upd['brand']"
   ]
  },
  {
   "cell_type": "markdown",
   "metadata": {},
   "source": [
    "In the above code, We took the values that we got from filtering out the purchase count having more than 15 for each website.\n",
    "<p>\n",
    "    Below we have replaced some column values to make the data clean and have distinct row values.\n"
   ]
  },
  {
   "cell_type": "code",
   "execution_count": 19,
   "metadata": {
    "ExecuteTime": {
     "end_time": "2019-12-11T17:08:22.721175Z",
     "start_time": "2019-12-11T17:08:22.654338Z"
    },
    "scrolled": false
   },
   "outputs": [
    {
     "data": {
      "text/plain": [
       "prices.merchant\n",
       "Bestbuy.com                             2844\n",
       "bhphotovideo.com                        1509\n",
       "AMI Ventures Inc                          63\n",
       "buydig                                    53\n",
       "Focus Camera                              48\n",
       "gear4less                                 43\n",
       "echo-and-optics                           40\n",
       "Beach Audio Inc                           39\n",
       "UnbeatableSale                            33\n",
       "DealClock                                 32\n",
       "electronic_express                        28\n",
       "World Wide Stereo                         28\n",
       "BuyVPC                                    27\n",
       "Electronics Expo (Authorized Dealer)      26\n",
       "Car Audio Closeout                        24\n",
       "Video & Audio Center                      19\n",
       "OneCall                                   18\n",
       "Electronic Express                        17\n",
       "wwstereo                                  16\n",
       "dtype: int64"
      ]
     },
     "execution_count": 19,
     "metadata": {},
     "output_type": "execute_result"
    }
   ],
   "source": [
    "ecom_data_upd[['prices.merchant']] = ecom_data_upd[['prices.merchant']].replace(['Best Buy'], ['Bestbuy.com'])\n",
    "ecom_data_upd.groupby('prices.merchant').size().sort_values(ascending=False)"
   ]
  },
  {
   "cell_type": "markdown",
   "metadata": {},
   "source": [
    "Performed some more data cleansing and manipulation below by replacing certain row values to a more generalized value."
   ]
  },
  {
   "cell_type": "code",
   "execution_count": 20,
   "metadata": {
    "ExecuteTime": {
     "end_time": "2019-12-11T17:08:23.095164Z",
     "start_time": "2019-12-11T17:08:22.725152Z"
    },
    "scrolled": false
   },
   "outputs": [
    {
     "name": "stdout",
     "output_type": "stream",
     "text": [
      "prices.condition\n",
      "New                         4143\n",
      "new                          665\n",
      "Used                          65\n",
      "New other (see details)       16\n",
      "Refurbished                   11\n",
      "pre-owned                      3\n",
      "refurbished                    2\n",
      "Manufacturer refurbished       2\n",
      "dtype: int64\n",
      "prices.isSale\n",
      "False    3755\n",
      "True     1152\n",
      "dtype: int64\n",
      "prices.condition\n",
      "New     4808\n",
      "Used      99\n",
      "dtype: int64\n",
      "<class 'pandas.core.frame.DataFrame'>\n",
      "Int64Index: 4907 entries, 0 to 7247\n",
      "Data columns (total 9 columns):\n",
      "prices.amountMax     4907 non-null float64\n",
      "prices.amountMin     4907 non-null float64\n",
      "prices.condition     4907 non-null object\n",
      "prices.isSale        4907 non-null object\n",
      "prices.merchant      4907 non-null object\n",
      "dateAdded            4907 non-null object\n",
      "brand                4907 non-null object\n",
      "name                 4907 non-null object\n",
      "primaryCategories    4907 non-null object\n",
      "dtypes: float64(2), object(7)\n",
      "memory usage: 383.4+ KB\n",
      "<class 'pandas.core.frame.DataFrame'>\n",
      "Int64Index: 4907 entries, 0 to 7247\n",
      "Data columns (total 8 columns):\n",
      "prices.amountMax     4907 non-null float64\n",
      "prices.amountMin     4907 non-null float64\n",
      "prices.merchant      4907 non-null object\n",
      "dateAdded            4907 non-null object\n",
      "brand                4907 non-null object\n",
      "name                 4907 non-null object\n",
      "primaryCategories    4907 non-null object\n",
      "cond_sale            4907 non-null object\n",
      "dtypes: float64(2), object(6)\n",
      "memory usage: 345.0+ KB\n"
     ]
    }
   ],
   "source": [
    "#print(ecom_data_upd[['prices.condition','prices.isSale']])\n",
    "print(ecom_data_upd.groupby('prices.condition').size().sort_values(ascending=False))\n",
    "print(ecom_data_upd.groupby('prices.isSale').size().sort_values(ascending=False))\n",
    "#change the values of the column to Used which are not new\n",
    "ecom_data_upd[['prices.condition']] = ecom_data_upd[['prices.condition']].replace(['new'], ['New'])\n",
    "ecom_data_upd[['prices.condition']] = ecom_data_upd[['prices.condition']].replace(['New other (see details)'], ['Used'])\n",
    "ecom_data_upd[['prices.condition']] = ecom_data_upd[['prices.condition']].replace(['Refurbished'], ['Used'])\n",
    "ecom_data_upd[['prices.condition']] = ecom_data_upd[['prices.condition']].replace(['pre-owned'], ['Used'])\n",
    "ecom_data_upd[['prices.condition']] = ecom_data_upd[['prices.condition']].replace(['refurbished'], ['Used'])\n",
    "ecom_data_upd[['prices.condition']] = ecom_data_upd[['prices.condition']].replace(['Manufacturer refurbished'], ['Used'])\n",
    "print(ecom_data_upd.groupby('prices.condition').size().sort_values(ascending=False))\n",
    "\n",
    "ecom_data_upd['prices.condition'] = ecom_data_upd['prices.condition'].astype(str)\n",
    "ecom_data_upd['prices.isSale'] = ecom_data_upd['prices.isSale'].astype(str)\n",
    "ecom_data_upd.info()\n",
    "ecom_data_upd['cond_sale'] = ecom_data_upd['prices.condition'] + '_' + ecom_data_upd['prices.isSale']\n",
    "#df['AllTogether'] = df['Country'].str.cat(df[['State', 'City']], sep=' - ')\n",
    "#ecom_data_upd['cond_sale'] = ecom_data_upd['prices.condition'].str.cat(ecom_data_upd['prices.isSale'].str, sep ='_')\n",
    "##print(ecom_data_upd['cond_sale'])\n",
    "ecom_data_upd = ecom_data_upd.drop(['prices.condition'], axis=1)\n",
    "ecom_data_upd = ecom_data_upd.drop(['prices.isSale'], axis=1)\n",
    "ecom_data_upd.info()"
   ]
  },
  {
   "cell_type": "code",
   "execution_count": 21,
   "metadata": {
    "ExecuteTime": {
     "end_time": "2019-12-11T17:09:25.896707Z",
     "start_time": "2019-12-11T17:08:23.098151Z"
    },
    "scrolled": false
   },
   "outputs": [
    {
     "data": {
      "image/png": "[encoded data removed]",
      "text/plain": [
       "<Figure size 720x288 with 1 Axes>"
      ]
     },
     "metadata": {
      "needs_background": "light"
     },
     "output_type": "display_data"
    },
    {
     "data": {
      "image/png": "[encoded data removed]",
      "text/plain": [
       "<Figure size 720x288 with 1 Axes>"
      ]
     },
     "metadata": {
      "needs_background": "light"
     },
     "output_type": "display_data"
    },
    {
     "data": {
      "image/png": "[encoded data removed]",
      "text/plain": [
       "<Figure size 720x288 with 1 Axes>"
      ]
     },
     "metadata": {
      "needs_background": "light"
     },
     "output_type": "display_data"
    },
    {
     "data": {
      "image/png": "[encoded data removed]",
      "text/plain": [
       "<Figure size 720x288 with 1 Axes>"
      ]
     },
     "metadata": {
      "needs_background": "light"
     },
     "output_type": "display_data"
    },
    {
     "data": {
      "image/png": "[encoded data removed]",
      "text/plain": [
       "<Figure size 720x288 with 1 Axes>"
      ]
     },
     "metadata": {
      "needs_background": "light"
     },
     "output_type": "display_data"
    },
    {
     "data": {
      "image/png": "[encoded data removed]",
      "text/plain": [
       "<Figure size 720x288 with 1 Axes>"
      ]
     },
     "metadata": {
      "needs_background": "light"
     },
     "output_type": "display_data"
    },
    {
     "data": {
      "image/png": "[encoded data removed]",
      "text/plain": [
       "<Figure size 720x288 with 1 Axes>"
      ]
     },
     "metadata": {
      "needs_background": "light"
     },
     "output_type": "display_data"
    },
    {
     "data": {
      "image/png": "[encoded data removed]",
      "text/plain": [
       "<Figure size 720x288 with 1 Axes>"
      ]
     },
     "metadata": {
      "needs_background": "light"
     },
     "output_type": "display_data"
    }
   ],
   "source": [
    "for col in ['prices.merchant']:\n",
    "    ecom_data_upd[col] = ecom_data_upd[col].astype('category')\n",
    "\n",
    "for col1 in ecom_data_upd:\n",
    "    plt.figure(figsize=(10,4))\n",
    "    sns.barplot(ecom_data_upd[col1].value_counts().values, ecom_data_upd[col1].value_counts().index)\n",
    "    plt.title(col1)\n",
    "    plt.tight_layout()\n",
    "    \n",
    "    "
   ]
  },
  {
   "cell_type": "markdown",
   "metadata": {
    "ExecuteTime": {
     "end_time": "2019-11-15T04:03:08.261584Z",
     "start_time": "2019-11-15T04:03:08.257593Z"
    }
   },
   "source": [
    "We can infer from the above graphs -\n",
    "<p> Pattern among the pricing that the companies do not provide discount on the most of the new products and provide ZERO discounts on the used products.\n",
    "<p> "
   ]
  },
  {
   "cell_type": "code",
   "execution_count": 22,
   "metadata": {
    "ExecuteTime": {
     "end_time": "2019-12-11T17:09:25.955546Z",
     "start_time": "2019-12-11T17:09:25.899692Z"
    },
    "scrolled": false
   },
   "outputs": [
    {
     "name": "stdout",
     "output_type": "stream",
     "text": [
      "{'Bestbuy.com': '1', 'bhphotovideo.com': '2', 'Walmart.com': '3', 'Beach Camera': '4', 'AMI Ventures Inc': '5', 'buydig': '6', 'Focus Camera': '7', 'gear4less': '8', 'echo-and-optics': '9', 'Beach Audio Inc': '10', 'UnbeatableSale': '11', 'DealClock': '12', 'electronic_express': '13', 'World Wide Stereo': '14', 'BuyVPC': '15', 'Electronics Expo (Authorized Dealer)': '16', 'Car Audio Closeout': '17', 'Video & Audio Center': '18', 'OneCall': '19', 'Electronic Express': '19', 'wwstereo': '20'}\n",
      "      prices.amountMax  prices.amountMin prices.merchant dateAdded  \\\n",
      "0               104.99            104.99               1   2015-04   \n",
      "3                69.99             69.99               1   2015-05   \n",
      "4                66.99             66.99               1   2015-05   \n",
      "7                65.99             65.99               1   2015-05   \n",
      "10               69.99             69.99               1   2015-05   \n",
      "12               64.99             64.99               1   2015-05   \n",
      "13               23.99             23.99               1   2015-03   \n",
      "15               20.99             20.99               1   2015-03   \n",
      "17               23.99             23.99               1   2015-03   \n",
      "18              290.99            290.99               1   2015-10   \n",
      "19              279.99            279.99               1   2015-10   \n",
      "20              299.99            299.99               1   2015-10   \n",
      "21              225.99            225.99               1   2015-10   \n",
      "22              289.99            289.99               1   2015-10   \n",
      "24              132.99            132.99               1   2015-07   \n",
      "25              149.99            149.99               1   2015-07   \n",
      "26              149.95            149.95               2   2015-07   \n",
      "27              136.99            136.99               1   2015-07   \n",
      "28              254.99            254.99               1   2015-09   \n",
      "29              209.99            209.99               1   2015-09   \n",
      "30              299.98            299.98               1   2015-09   \n",
      "31              239.99            239.99               1   2015-09   \n",
      "32              299.98            299.98               1   2015-09   \n",
      "33              499.00            499.00               2   2015-05   \n",
      "34              699.99            699.99               1   2015-05   \n",
      "35              699.00            699.00               2   2015-05   \n",
      "37              599.00            599.00               2   2015-05   \n",
      "38              224.99            224.99               1   2018-05   \n",
      "39              249.99            249.99               1   2018-05   \n",
      "40              139.99            139.99               1   2017-07   \n",
      "...                ...               ...             ...       ...   \n",
      "7203            189.99            189.99               2   2017-07   \n",
      "7206            184.00            184.00               1   2017-07   \n",
      "7207            179.99            179.99               1   2017-07   \n",
      "7212            184.00            184.00               2   2017-07   \n",
      "7215            197.99            197.99               1   2016-12   \n",
      "7217            139.99            139.99               6   2016-12   \n",
      "7219            199.99            199.99               1   2016-12   \n",
      "7221            289.98            289.98               1   2015-05   \n",
      "7222            289.98            289.98               1   2015-05   \n",
      "7223            299.99            299.99               2   2017-02   \n",
      "7224            184.99            184.99               1   2017-02   \n",
      "7225            179.99            179.99               2   2017-02   \n",
      "7226            299.98            299.98               1   2017-02   \n",
      "7228            299.00            179.00               7   2017-02   \n",
      "7229            199.99            199.99               2   2017-02   \n",
      "7230            199.98            199.98               1   2017-02   \n",
      "7231             59.99             59.99               1   2018-01   \n",
      "7234             34.99             34.99               2   2018-01   \n",
      "7236             29.99             29.99               1   2018-01   \n",
      "7237             59.99             59.99               2   2018-01   \n",
      "7238             62.99             62.99               2   2016-06   \n",
      "7239             81.99             81.99               1   2016-06   \n",
      "7240             79.95             79.95               2   2016-06   \n",
      "7241             77.82             77.82               2   2016-06   \n",
      "7242             67.49             67.49               2   2016-06   \n",
      "7243             67.72             67.72               2   2016-06   \n",
      "7244             79.99             79.99               1   2016-06   \n",
      "7245             68.75             68.75               2   2016-06   \n",
      "7246             70.99             70.99               1   2016-06   \n",
      "7247             71.99             71.99               1   2016-06   \n",
      "\n",
      "                         brand  \\\n",
      "0                        Sanus   \n",
      "3                      Boytone   \n",
      "4                      Boytone   \n",
      "7                      Boytone   \n",
      "10                     Boytone   \n",
      "12                     Boytone   \n",
      "13                       DENAQ   \n",
      "15                       DENAQ   \n",
      "17                       DENAQ   \n",
      "18                   DreamWave   \n",
      "19                   DreamWave   \n",
      "20                   DreamWave   \n",
      "21                   DreamWave   \n",
      "22                   DreamWave   \n",
      "24                      Yamaha   \n",
      "25                      Yamaha   \n",
      "26                      Yamaha   \n",
      "27                      Yamaha   \n",
      "28    Universal Remote Control   \n",
      "29    Universal Remote Control   \n",
      "30    Universal Remote Control   \n",
      "31    Universal Remote Control   \n",
      "32    Universal Remote Control   \n",
      "33                        Bose   \n",
      "34                        Bose   \n",
      "35                        Bose   \n",
      "37                        Bose   \n",
      "38                     Samsung   \n",
      "39                     Samsung   \n",
      "40                     Corsair   \n",
      "...                        ...   \n",
      "7203                      ASUS   \n",
      "7206                      ASUS   \n",
      "7207                      ASUS   \n",
      "7212                      ASUS   \n",
      "7215                   Skybell   \n",
      "7217                   Skybell   \n",
      "7219                   Skybell   \n",
      "7221                AudioQuest   \n",
      "7222                AudioQuest   \n",
      "7223                    V-MODA   \n",
      "7224                    V-MODA   \n",
      "7225                    V-MODA   \n",
      "7226                    V-MODA   \n",
      "7228                    V-MODA   \n",
      "7229                    V-MODA   \n",
      "7230                    V-MODA   \n",
      "7231                  Logitech   \n",
      "7234                  Logitech   \n",
      "7236                  Logitech   \n",
      "7237                  Logitech   \n",
      "7238                   Lowepro   \n",
      "7239                   Lowepro   \n",
      "7240                   Lowepro   \n",
      "7241                   Lowepro   \n",
      "7242                   Lowepro   \n",
      "7243                   Lowepro   \n",
      "7244                   Lowepro   \n",
      "7245                   Lowepro   \n",
      "7246                   Lowepro   \n",
      "7247                   Lowepro   \n",
      "\n",
      "                                                   name primaryCategories  \\\n",
      "0     Sanus VLF410B1 10-Inch Super Slim Full-Motion ...       Electronics   \n",
      "3     Boytone - 2500W 2.1-Ch. Home Theater System - ...       Electronics   \n",
      "4     Boytone - 2500W 2.1-Ch. Home Theater System - ...       Electronics   \n",
      "7     Boytone - 2500W 2.1-Ch. Home Theater System - ...       Electronics   \n",
      "10    Boytone - 2500W 2.1-Ch. Home Theater System - ...       Electronics   \n",
      "12    Boytone - 2500W 2.1-Ch. Home Theater System - ...       Electronics   \n",
      "13    DENAQ - AC Adapter for TOSHIBA SATELLITE 1700 ...       Electronics   \n",
      "15    DENAQ - AC Adapter for TOSHIBA SATELLITE 1700 ...       Electronics   \n",
      "17    DENAQ - AC Adapter for TOSHIBA SATELLITE 1700 ...       Electronics   \n",
      "18    DreamWave - Tremor Portable Bluetooth Speaker ...       Electronics   \n",
      "19    DreamWave - Tremor Portable Bluetooth Speaker ...       Electronics   \n",
      "20    DreamWave - Tremor Portable Bluetooth Speaker ...       Electronics   \n",
      "21    DreamWave - Tremor Portable Bluetooth Speaker ...       Electronics   \n",
      "22    DreamWave - Tremor Portable Bluetooth Speaker ...       Electronics   \n",
      "24    NS-SP1800BL 5.1-Channel Home Theater System (B...       Electronics   \n",
      "25    NS-SP1800BL 5.1-Channel Home Theater System (B...       Electronics   \n",
      "26    NS-SP1800BL 5.1-Channel Home Theater System (B...       Electronics   \n",
      "27    NS-SP1800BL 5.1-Channel Home Theater System (B...       Electronics   \n",
      "28    Universal Remote Control - 48-Device Universal...       Electronics   \n",
      "29    Universal Remote Control - 48-Device Universal...       Electronics   \n",
      "30    Universal Remote Control - 48-Device Universal...       Electronics   \n",
      "31    Universal Remote Control - 48-Device Universal...       Electronics   \n",
      "32    Universal Remote Control - 48-Device Universal...       Electronics   \n",
      "33    Acoustimass 6 Series V Home Theater Speaker Sy...       Electronics   \n",
      "34    Acoustimass 6 Series V Home Theater Speaker Sy...       Electronics   \n",
      "35    Acoustimass 6 Series V Home Theater Speaker Sy...       Electronics   \n",
      "37    Acoustimass 6 Series V Home Theater Speaker Sy...       Electronics   \n",
      "38    Samsung - 850 PRO 512GB Internal SATA III Soli...       Electronics   \n",
      "39    Samsung - 850 PRO 512GB Internal SATA III Soli...       Electronics   \n",
      "40    Corsair Vengeance LPX 16GB (2x8GB) DDR4 DRAM 3...       Electronics   \n",
      "...                                                 ...               ...   \n",
      "7203                       VS278Q-P 27 16:9 LCD Monitor       Electronics   \n",
      "7206                       VS278Q-P 27 16:9 LCD Monitor       Electronics   \n",
      "7207                       VS278Q-P 27 16:9 LCD Monitor       Electronics   \n",
      "7212                       VS278Q-P 27 16:9 LCD Monitor       Electronics   \n",
      "7215  Details About Skybell Hd Wifi 1080p Video Door...       Electronics   \n",
      "7217  Details About Skybell Hd Wifi 1080p Video Door...       Electronics   \n",
      "7219  Details About Skybell Hd Wifi 1080p Video Door...       Electronics   \n",
      "7221  AudioQuest - Chocolate 16.5' 4K Ultra HD In-Wa...       Electronics   \n",
      "7222  AudioQuest - Chocolate 16.5' 4K Ultra HD In-Wa...       Electronics   \n",
      "7223  V-MODA - Crossfade Wireless Headphones - Gunme...       Electronics   \n",
      "7224  V-MODA - Crossfade Wireless Headphones - Gunme...       Electronics   \n",
      "7225  V-MODA - Crossfade Wireless Headphones - Gunme...       Electronics   \n",
      "7226  V-MODA - Crossfade Wireless Headphones - Gunme...       Electronics   \n",
      "7228  V-MODA - Crossfade Wireless Headphones - Gunme...       Electronics   \n",
      "7229  V-MODA - Crossfade Wireless Headphones - Gunme...       Electronics   \n",
      "7230  V-MODA - Crossfade Wireless Headphones - Gunme...       Electronics   \n",
      "7231  Details About New Logitech G230 981000541 Headset       Electronics   \n",
      "7234  Details About New Logitech G230 981000541 Headset       Electronics   \n",
      "7236  Details About New Logitech G230 981000541 Headset       Electronics   \n",
      "7237  Details About New Logitech G230 981000541 Headset       Electronics   \n",
      "7238  Lowepro - Slingshot Edge 250 AW Camera Backpac...       Electronics   \n",
      "7239  Lowepro - Slingshot Edge 250 AW Camera Backpac...       Electronics   \n",
      "7240  Lowepro - Slingshot Edge 250 AW Camera Backpac...       Electronics   \n",
      "7241  Lowepro - Slingshot Edge 250 AW Camera Backpac...       Electronics   \n",
      "7242  Lowepro - Slingshot Edge 250 AW Camera Backpac...       Electronics   \n",
      "7243  Lowepro - Slingshot Edge 250 AW Camera Backpac...       Electronics   \n",
      "7244  Lowepro - Slingshot Edge 250 AW Camera Backpac...       Electronics   \n",
      "7245  Lowepro - Slingshot Edge 250 AW Camera Backpac...       Electronics   \n",
      "7246  Lowepro - Slingshot Edge 250 AW Camera Backpac...       Electronics   \n",
      "7247  Lowepro - Slingshot Edge 250 AW Camera Backpac...       Electronics   \n",
      "\n",
      "      cond_sale  \n",
      "0     New_False  \n",
      "3     New_False  \n",
      "4     New_False  \n",
      "7     New_False  \n",
      "10    New_False  \n",
      "12    New_False  \n",
      "13    New_False  \n",
      "15     New_True  \n",
      "17    New_False  \n",
      "18    New_False  \n",
      "19    New_False  \n",
      "20    New_False  \n",
      "21     New_True  \n",
      "22    New_False  \n",
      "24     New_True  \n",
      "25    New_False  \n",
      "26     New_True  \n",
      "27     New_True  \n",
      "28     New_True  \n",
      "29     New_True  \n",
      "30    New_False  \n",
      "31     New_True  \n",
      "32    New_False  \n",
      "33    New_False  \n",
      "34    New_False  \n",
      "35    New_False  \n",
      "37    New_False  \n",
      "38     New_True  \n",
      "39    New_False  \n",
      "40    New_False  \n",
      "...         ...  \n",
      "7203  New_False  \n",
      "7206  New_False  \n",
      "7207  New_False  \n",
      "7212  New_False  \n",
      "7215  New_False  \n",
      "7217  New_False  \n",
      "7219  New_False  \n",
      "7221  New_False  \n",
      "7222  New_False  \n",
      "7223  New_False  \n",
      "7224   New_True  \n",
      "7225   New_True  \n",
      "7226  New_False  \n",
      "7228   New_True  \n",
      "7229  New_False  \n",
      "7230  New_False  \n",
      "7231  New_False  \n",
      "7234   New_True  \n",
      "7236   New_True  \n",
      "7237  New_False  \n",
      "7238  New_False  \n",
      "7239  New_False  \n",
      "7240  New_False  \n",
      "7241  New_False  \n",
      "7242  New_False  \n",
      "7243  New_False  \n",
      "7244  New_False  \n",
      "7245  New_False  \n",
      "7246  New_False  \n",
      "7247  New_False  \n",
      "\n",
      "[4907 rows x 8 columns]\n",
      "<class 'pandas.core.frame.DataFrame'>\n",
      "Int64Index: 4907 entries, 0 to 7247\n",
      "Data columns (total 8 columns):\n",
      "prices.amountMax     4907 non-null float64\n",
      "prices.amountMin     4907 non-null float64\n",
      "prices.merchant      4907 non-null object\n",
      "dateAdded            4907 non-null object\n",
      "brand                4907 non-null object\n",
      "name                 4907 non-null object\n",
      "primaryCategories    4907 non-null object\n",
      "cond_sale            4907 non-null object\n",
      "dtypes: float64(2), object(6)\n",
      "memory usage: 345.0+ KB\n"
     ]
    }
   ],
   "source": [
    "ecom_data_upd.corr()\n",
    "\n",
    "\n",
    "dict ={'Bestbuy.com' : '1',\n",
    "'bhphotovideo.com': '2',\n",
    "'Walmart.com': '3',\n",
    "'Beach Camera': '4',\n",
    "'AMI Ventures Inc': '5'\n",
    ",'buydig': '6'\n",
    ",'Focus Camera': '7'\n",
    ",'gear4less': '8'\n",
    ",'echo-and-optics': '9'\n",
    ",'Beach Audio Inc': '10'\n",
    ",'UnbeatableSale': '11'\n",
    ",'DealClock': '12'\n",
    ",'electronic_express': '13'\n",
    ",'World Wide Stereo': '14'\n",
    ",'BuyVPC': '15'\n",
    ",'Electronics Expo (Authorized Dealer)': '16'\n",
    ",'Car Audio Closeout': '17'\n",
    ",'Video & Audio Center': '18'\n",
    ",'OneCall': '19'\n",
    ",'Electronic Express': '19',\n",
    "'wwstereo': '20'}\n",
    "\n",
    "\n",
    "# Print the dictionary \n",
    "print(dict) \n",
    "\n",
    "# Remap the values of the dataframe \n",
    "ecom_data_upd['prices.merchant']= ecom_data_upd['prices.merchant'].map(dict) \n",
    "  \n",
    "# Print the DataFrame after modification \n",
    "print(ecom_data_upd)\n",
    "\n",
    "ecom_data_upd.info()"
   ]
  },
  {
   "cell_type": "code",
   "execution_count": 24,
   "metadata": {
    "ExecuteTime": {
     "end_time": "2019-12-11T17:09:58.044644Z",
     "start_time": "2019-12-11T17:09:58.032640Z"
    }
   },
   "outputs": [
    {
     "name": "stdout",
     "output_type": "stream",
     "text": [
      "{'New_False': '1', 'New_True': '2', 'Used_False': '3', 'Used_True': '4'}\n"
     ]
    }
   ],
   "source": [
    "dict = {'New_False' : '1',\n",
    "'New_True' : '2',\n",
    "'Used_False' : '3',\n",
    "'Used_True' : '4'}\n",
    "\n",
    "print(dict)\n",
    "  \n",
    "ecom_data_upd['cond_sale']= ecom_data_upd['cond_sale'].map(dict)"
   ]
  },
  {
   "cell_type": "code",
   "execution_count": 25,
   "metadata": {
    "ExecuteTime": {
     "end_time": "2019-12-11T17:10:02.162636Z",
     "start_time": "2019-12-11T17:10:02.136724Z"
    }
   },
   "outputs": [
    {
     "data": {
      "text/html": [
       "<div>\n",
       "<style scoped>\n",
       "    .dataframe tbody tr th:only-of-type {\n",
       "        vertical-align: middle;\n",
       "    }\n",
       "\n",
       "    .dataframe tbody tr th {\n",
       "        vertical-align: top;\n",
       "    }\n",
       "\n",
       "    .dataframe thead th {\n",
       "        text-align: right;\n",
       "    }\n",
       "</style>\n",
       "<table border=\"1\" class=\"dataframe\">\n",
       "  <thead>\n",
       "    <tr style=\"text-align: right;\">\n",
       "      <th></th>\n",
       "      <th>prices.amountMax</th>\n",
       "      <th>prices.amountMin</th>\n",
       "      <th>prices.merchant</th>\n",
       "      <th>cond_sale</th>\n",
       "    </tr>\n",
       "  </thead>\n",
       "  <tbody>\n",
       "    <tr>\n",
       "      <th>prices.amountMax</th>\n",
       "      <td>1.000000</td>\n",
       "      <td>0.994230</td>\n",
       "      <td>0.144355</td>\n",
       "      <td>0.066534</td>\n",
       "    </tr>\n",
       "    <tr>\n",
       "      <th>prices.amountMin</th>\n",
       "      <td>0.994230</td>\n",
       "      <td>1.000000</td>\n",
       "      <td>0.123575</td>\n",
       "      <td>0.057429</td>\n",
       "    </tr>\n",
       "    <tr>\n",
       "      <th>prices.merchant</th>\n",
       "      <td>0.144355</td>\n",
       "      <td>0.123575</td>\n",
       "      <td>1.000000</td>\n",
       "      <td>-0.035043</td>\n",
       "    </tr>\n",
       "    <tr>\n",
       "      <th>cond_sale</th>\n",
       "      <td>0.066534</td>\n",
       "      <td>0.057429</td>\n",
       "      <td>-0.035043</td>\n",
       "      <td>1.000000</td>\n",
       "    </tr>\n",
       "  </tbody>\n",
       "</table>\n",
       "</div>"
      ],
      "text/plain": [
       "                  prices.amountMax  prices.amountMin  prices.merchant  \\\n",
       "prices.amountMax          1.000000          0.994230         0.144355   \n",
       "prices.amountMin          0.994230          1.000000         0.123575   \n",
       "prices.merchant           0.144355          0.123575         1.000000   \n",
       "cond_sale                 0.066534          0.057429        -0.035043   \n",
       "\n",
       "                  cond_sale  \n",
       "prices.amountMax   0.066534  \n",
       "prices.amountMin   0.057429  \n",
       "prices.merchant   -0.035043  \n",
       "cond_sale          1.000000  "
      ]
     },
     "execution_count": 25,
     "metadata": {},
     "output_type": "execute_result"
    }
   ],
   "source": [
    "for col in ['prices.merchant']:\n",
    "    ecom_data_upd[col] = ecom_data_upd[col].astype('int8')\n",
    "\n",
    "for col in ['cond_sale']:\n",
    "    ecom_data_upd[col] = ecom_data_upd[col].astype('int8')\n"
   ]
  },
  {
   "cell_type": "code",
   "execution_count": 27,
   "metadata": {
    "ExecuteTime": {
     "end_time": "2019-12-11T17:10:20.442050Z",
     "start_time": "2019-12-11T17:10:20.424065Z"
    }
   },
   "outputs": [
    {
     "data": {
      "text/html": [
       "<div>\n",
       "<style scoped>\n",
       "    .dataframe tbody tr th:only-of-type {\n",
       "        vertical-align: middle;\n",
       "    }\n",
       "\n",
       "    .dataframe tbody tr th {\n",
       "        vertical-align: top;\n",
       "    }\n",
       "\n",
       "    .dataframe thead th {\n",
       "        text-align: right;\n",
       "    }\n",
       "</style>\n",
       "<table border=\"1\" class=\"dataframe\">\n",
       "  <thead>\n",
       "    <tr style=\"text-align: right;\">\n",
       "      <th></th>\n",
       "      <th>prices.amountMax</th>\n",
       "      <th>prices.amountMin</th>\n",
       "      <th>prices.merchant</th>\n",
       "      <th>cond_sale</th>\n",
       "    </tr>\n",
       "  </thead>\n",
       "  <tbody>\n",
       "    <tr>\n",
       "      <th>prices.amountMax</th>\n",
       "      <td>1.000000</td>\n",
       "      <td>0.994230</td>\n",
       "      <td>0.144355</td>\n",
       "      <td>0.066534</td>\n",
       "    </tr>\n",
       "    <tr>\n",
       "      <th>prices.amountMin</th>\n",
       "      <td>0.994230</td>\n",
       "      <td>1.000000</td>\n",
       "      <td>0.123575</td>\n",
       "      <td>0.057429</td>\n",
       "    </tr>\n",
       "    <tr>\n",
       "      <th>prices.merchant</th>\n",
       "      <td>0.144355</td>\n",
       "      <td>0.123575</td>\n",
       "      <td>1.000000</td>\n",
       "      <td>-0.035043</td>\n",
       "    </tr>\n",
       "    <tr>\n",
       "      <th>cond_sale</th>\n",
       "      <td>0.066534</td>\n",
       "      <td>0.057429</td>\n",
       "      <td>-0.035043</td>\n",
       "      <td>1.000000</td>\n",
       "    </tr>\n",
       "  </tbody>\n",
       "</table>\n",
       "</div>"
      ],
      "text/plain": [
       "                  prices.amountMax  prices.amountMin  prices.merchant  \\\n",
       "prices.amountMax          1.000000          0.994230         0.144355   \n",
       "prices.amountMin          0.994230          1.000000         0.123575   \n",
       "prices.merchant           0.144355          0.123575         1.000000   \n",
       "cond_sale                 0.066534          0.057429        -0.035043   \n",
       "\n",
       "                  cond_sale  \n",
       "prices.amountMax   0.066534  \n",
       "prices.amountMin   0.057429  \n",
       "prices.merchant   -0.035043  \n",
       "cond_sale          1.000000  "
      ]
     },
     "execution_count": 27,
     "metadata": {},
     "output_type": "execute_result"
    }
   ],
   "source": [
    "ecom_data_upd.corr()"
   ]
  },
  {
   "cell_type": "code",
   "execution_count": 28,
   "metadata": {
    "ExecuteTime": {
     "end_time": "2019-12-11T17:10:39.472678Z",
     "start_time": "2019-12-11T17:10:39.446426Z"
    }
   },
   "outputs": [
    {
     "name": "stdout",
     "output_type": "stream",
     "text": [
      "<class 'pandas.core.frame.DataFrame'>\n",
      "Int64Index: 4907 entries, 0 to 7247\n",
      "Data columns (total 4 columns):\n",
      "prices.amountMax    4907 non-null float64\n",
      "prices.amountMin    4907 non-null float64\n",
      "prices.merchant     4907 non-null int8\n",
      "cond_sale           4907 non-null int8\n",
      "dtypes: float64(2), int8(2)\n",
      "memory usage: 124.6 KB\n"
     ]
    }
   ],
   "source": [
    "new_data = ecom_data_upd[[\"prices.amountMax\",\"prices.amountMin\",\"prices.merchant\",\"cond_sale\"]]\n",
    "new_data.info()\n",
    "\n",
    "from imblearn.over_sampling import RandomOverSampler\n",
    "ros = RandomOverSampler()"
   ]
  },
  {
   "cell_type": "code",
   "execution_count": 29,
   "metadata": {
    "ExecuteTime": {
     "end_time": "2019-12-11T17:10:43.913483Z",
     "start_time": "2019-12-11T17:10:43.834557Z"
    }
   },
   "outputs": [
    {
     "name": "stdout",
     "output_type": "stream",
     "text": [
      "[ 0  0  0 ... 17 17 17]\n"
     ]
    }
   ],
   "source": [
    "x = new_data[new_data.columns.difference(['prices.merchant'])]\n",
    "y = new_data['prices.merchant']\n",
    "x, y = ros.fit_sample(x, y)\n",
    "from sklearn.preprocessing import StandardScaler\n",
    "from sklearn.preprocessing import LabelEncoder\n",
    "scaler = StandardScaler()\n",
    "encoder = LabelEncoder()\n",
    "y = encoder.fit_transform(y)\n",
    "print(y)\n",
    "x = scaler.fit_transform(x)"
   ]
  },
  {
   "cell_type": "code",
   "execution_count": 30,
   "metadata": {
    "ExecuteTime": {
     "end_time": "2019-12-11T17:10:47.315604Z",
     "start_time": "2019-12-11T17:10:47.263780Z"
    }
   },
   "outputs": [
    {
     "name": "stdout",
     "output_type": "stream",
     "text": [
      "[ 0  0  0 ... 17 17 17]\n"
     ]
    }
   ],
   "source": [
    "from sklearn.preprocessing import StandardScaler\n",
    "from sklearn.preprocessing import LabelEncoder\n",
    "scaler = StandardScaler()\n",
    "encoder = LabelEncoder()\n",
    "y = encoder.fit_transform(y)\n",
    "print(y)\n",
    "x = scaler.fit_transform(x)"
   ]
  },
  {
   "cell_type": "code",
   "execution_count": 31,
   "metadata": {
    "ExecuteTime": {
     "end_time": "2019-12-11T17:11:02.060623Z",
     "start_time": "2019-12-11T17:11:02.028709Z"
    }
   },
   "outputs": [
    {
     "name": "stdout",
     "output_type": "stream",
     "text": [
      "x: (51192, 3)\n",
      "y: (51192,)\n",
      "Shape of x_train: (35834, 3)\n",
      "Shape of y_train: (35834,)\n",
      "Shape of x_test: (15358, 3)\n",
      "Shape of y_test: (15358,)\n"
     ]
    }
   ],
   "source": [
    "#checking the shapes\n",
    "print(\"x:\", x.shape)\n",
    "print(\"y:\", y.shape)\n",
    "from sklearn.model_selection import train_test_split\n",
    "x_train, x_test, y_train, y_test = train_test_split(x, y, test_size = 0.3, random_state = 42)\n",
    "\n",
    "# checking the shapes\n",
    "\n",
    "print(\"Shape of x_train:\", x_train.shape)\n",
    "print(\"Shape of y_train:\", y_train.shape)\n",
    "print(\"Shape of x_test:\", x_test.shape)\n",
    "print(\"Shape of y_test:\", y_test.shape)"
   ]
  },
  {
   "cell_type": "code",
   "execution_count": 32,
   "metadata": {
    "ExecuteTime": {
     "end_time": "2019-12-11T17:11:07.169062Z",
     "start_time": "2019-12-11T17:11:06.884818Z"
    }
   },
   "outputs": [
    {
     "name": "stdout",
     "output_type": "stream",
     "text": [
      "Training Accuracy : 0.8458168220126138\n",
      "Testing Accuracy : 0.8297304336502149\n",
      "[[649 118   8   1   9   3   2   0  17   3  19   3   7  15  41   1   2   1]\n",
      " [189 499   2  11  21   4   6   3  13   9  16  17   5  11  20  15   5  32]\n",
      " [  0   0 861   0  14   0   0   0   0   0   0   0   0   0   0   0   0   0]\n",
      " [  0   0   0 410  29   0   0   0   0  12 135   0   0  34   0  58  55  99]\n",
      " [  0   0   0  21 707  16   0   0  13   0  37   0  11  12   0  38   0   0]\n",
      " [  0   0   0   0   0 744 104   0   0   0   0   0   0   0   0   0   0   0]\n",
      " [  0   0   0   0   0  95 698   0   0   0  41   0   0   0   0  23   0   0]\n",
      " [ 34   0   0   0   0   0   0 791   0   0   0   0   0  22  18   0   0   0]\n",
      " [  0   0   0   0   0   0   0   0 792   0   0   0   0   0   0   0   0   0]\n",
      " [  0   0   0   0   0   0   0   0   0 833   0   0   0   0   0   0   0   0]\n",
      " [  0   0   0   0  25   0   0   0   0   0 573   0   0   0   0 126   0 177]\n",
      " [  0   0   0   0  30   0   0   0   0  35   0 631   0  60   0  70   0  62]\n",
      " [  0   0   0   0   0   0   0   0   0   0   0   0 839   0   0   0   0   0]\n",
      " [  0   0   0   0   0   0   0   0   0   0   0   0   0 753   0   0   0  68]\n",
      " [  0   0   0   0   0   0   0   0   0   0   0   0   0   0 813   0   0   0]\n",
      " [  0   0   0   0   0   0   0   0   0   0   0   0   0   0   0 846   0   0]\n",
      " [  0   0   0   0  23   0   0   0   0  34 121  80   0   0  21  44 501  51]\n",
      " [  0   0   0   0   0   0   0   0   0   0   0   0   0  38   0   0   0 803]]\n",
      "              precision    recall  f1-score   support\n",
      "\n",
      "           0       0.74      0.72      0.73       899\n",
      "           1       0.81      0.57      0.67       878\n",
      "           2       0.99      0.98      0.99       875\n",
      "           3       0.93      0.49      0.64       832\n",
      "           4       0.82      0.83      0.83       855\n",
      "           5       0.86      0.88      0.87       848\n",
      "           6       0.86      0.81      0.84       857\n",
      "           7       1.00      0.91      0.95       865\n",
      "           8       0.95      1.00      0.97       792\n",
      "           9       0.90      1.00      0.95       833\n",
      "          10       0.61      0.64      0.62       901\n",
      "          11       0.86      0.71      0.78       888\n",
      "          12       0.97      1.00      0.99       839\n",
      "          13       0.80      0.92      0.85       821\n",
      "          14       0.89      1.00      0.94       813\n",
      "          15       0.69      1.00      0.82       846\n",
      "          16       0.89      0.57      0.70       875\n",
      "          17       0.62      0.95      0.75       841\n",
      "\n",
      "    accuracy                           0.83     15358\n",
      "   macro avg       0.84      0.83      0.83     15358\n",
      "weighted avg       0.84      0.83      0.83     15358\n",
      "\n"
     ]
    }
   ],
   "source": [
    "from sklearn.tree import DecisionTreeClassifier\n",
    "from sklearn.metrics import confusion_matrix\n",
    "from sklearn.metrics import classification_report\n",
    "\n",
    "model = DecisionTreeClassifier()\n",
    "model.fit(x_train, y_train)\n",
    "\n",
    "y_pred = model.predict(x_test)\n",
    "\n",
    "# evaluating the model\n",
    "print(\"Training Accuracy :\", model.score(x_train, y_train))\n",
    "print(\"Testing Accuracy :\", model.score(x_test, y_test))\n",
    "\n",
    "# confusion matrix\n",
    "cm = confusion_matrix(y_test, y_pred)\n",
    "print(cm)\n",
    "\n",
    "# classification report\n",
    "cr = classification_report(y_test, y_pred)\n",
    "print(cr)"
   ]
  },
  {
   "cell_type": "code",
   "execution_count": 33,
   "metadata": {
    "ExecuteTime": {
     "end_time": "2019-12-11T17:11:18.474427Z",
     "start_time": "2019-12-11T17:11:17.439160Z"
    }
   },
   "outputs": [
    {
     "name": "stdout",
     "output_type": "stream",
     "text": [
      "Training Accuracy : 0.8445610314226712\n",
      "Testing Accuracy : 0.8286886313322047\n",
      "[[631 135   9   2   8   3   2   0  17   3  18   3   9  15  40   1   2   1]\n",
      " [185 499   2  12  22   4   6   3  13   9  16  17   5  11  21  16   5  32]\n",
      " [  0   0 861   0  14   0   0   0   0   0   0   0   0   0   0   0   0   0]\n",
      " [  0   0   0 410  29   0   0   0   0  12 135   0   0  34   0  58  55  99]\n",
      " [  0   0   0  21 707  16   0   0  13   0  37   0  11  12   0  38   0   0]\n",
      " [  0   0   0   0   0 724 124   0   0   0   0   0   0   0   0   0   0   0]\n",
      " [  0   0   0   0   0  73 720   0   0   0  41   0   0   0   0  23   0   0]\n",
      " [ 34   0   0   0   0   0   0 791   0   0   0   0   0  22  18   0   0   0]\n",
      " [  0   0   0   0   0   0   0   0 792   0   0   0   0   0   0   0   0   0]\n",
      " [  0   0   0   0   0   0   0   0   0 833   0   0   0   0   0   0   0   0]\n",
      " [  0   0   0   0  25   0   0   0   0   0 573   0   0   0   0 126   0 177]\n",
      " [  0   0   0   0  30   0   0   0   0  35   0 631   0  60   0  70   0  62]\n",
      " [  0   0   0   0   0   0   0   0   0   0   0   0 839   0   0   0   0   0]\n",
      " [  0   0   0   0   0   0   0   0   0   0   0   0   0 753   0   0   0  68]\n",
      " [  0   0   0   0   0   0   0   0   0   0   0   0   0   0 813   0   0   0]\n",
      " [  0   0   0   0   0   0   0   0   0   0   0   0   0   0   0 846   0   0]\n",
      " [  0   0   0   0  23   0   0   0   0  34 121  80   0   0  21  44 501  51]\n",
      " [  0   0   0   0   0   0   0   0   0   0   0   0   0  38   0   0   0 803]]\n",
      "              precision    recall  f1-score   support\n",
      "\n",
      "           0       0.74      0.70      0.72       899\n",
      "           1       0.79      0.57      0.66       878\n",
      "           2       0.99      0.98      0.99       875\n",
      "           3       0.92      0.49      0.64       832\n",
      "           4       0.82      0.83      0.83       855\n",
      "           5       0.88      0.85      0.87       848\n",
      "           6       0.85      0.84      0.84       857\n",
      "           7       1.00      0.91      0.95       865\n",
      "           8       0.95      1.00      0.97       792\n",
      "           9       0.90      1.00      0.95       833\n",
      "          10       0.61      0.64      0.62       901\n",
      "          11       0.86      0.71      0.78       888\n",
      "          12       0.97      1.00      0.99       839\n",
      "          13       0.80      0.92      0.85       821\n",
      "          14       0.89      1.00      0.94       813\n",
      "          15       0.69      1.00      0.82       846\n",
      "          16       0.89      0.57      0.70       875\n",
      "          17       0.62      0.95      0.75       841\n",
      "\n",
      "    accuracy                           0.83     15358\n",
      "   macro avg       0.84      0.83      0.83     15358\n",
      "weighted avg       0.84      0.83      0.82     15358\n",
      "\n"
     ]
    }
   ],
   "source": [
    "from sklearn.ensemble import RandomForestClassifier\n",
    "from sklearn.metrics import confusion_matrix\n",
    "from sklearn.metrics import classification_report\n",
    "\n",
    "model = RandomForestClassifier()\n",
    "model.fit(x_train, y_train)\n",
    "\n",
    "y_pred = model.predict(x_test)\n",
    "\n",
    "# evaluating the model\n",
    "print(\"Training Accuracy :\", model.score(x_train, y_train))\n",
    "print(\"Testing Accuracy :\", model.score(x_test, y_test))\n",
    "\n",
    "# confusion matrix\n",
    "cm = confusion_matrix(y_test, y_pred)\n",
    "print(cm)\n",
    "\n",
    "# classification report\n",
    "cr = classification_report(y_test, y_pred)\n",
    "print(cr)"
   ]
  },
  {
   "cell_type": "code",
   "execution_count": 34,
   "metadata": {
    "ExecuteTime": {
     "end_time": "2019-12-11T17:11:23.813632Z",
     "start_time": "2019-12-11T17:11:23.269768Z"
    }
   },
   "outputs": [
    {
     "data": {
      "image/png": "[encoded data removed]",
      "text/plain": [
       "<Figure size 720x720 with 2 Axes>"
      ]
     },
     "metadata": {
      "needs_background": "light"
     },
     "output_type": "display_data"
    }
   ],
   "source": [
    "plt.figure(figsize=(10,10))\n",
    "sns.heatmap(new_data.corr(),annot=True,cmap='cubehelix_r')\n",
    "plt.show()"
   ]
  },
  {
   "cell_type": "code",
   "execution_count": null,
   "metadata": {
    "ExecuteTime": {
     "end_time": "2019-12-11T17:09:26.249764Z",
     "start_time": "2019-12-11T17:08:17.280Z"
    }
   },
   "outputs": [],
   "source": [
    "ecom_data_upd.to_csv(\"D:\\\\kddproject.csv\")"
   ]
  },
  {
   "cell_type": "markdown",
   "metadata": {},
   "source": []
  },
  {
   "cell_type": "code",
   "execution_count": null,
   "metadata": {},
   "outputs": [],
   "source": []
  }
 ],
 "metadata": {
  "kernelspec": {
   "display_name": "Python 3",
   "language": "python",
   "name": "python3"
  },
  "language_info": {
   "codemirror_mode": {
    "name": "ipython",
    "version": 3
   },
   "file_extension": ".py",
   "mimetype": "text/x-python",
   "name": "python",
   "nbconvert_exporter": "python",
   "pygments_lexer": "ipython3",
   "version": "3.7.3"
  },
  "varInspector": {
   "cols": {
    "lenName": 16,
    "lenType": 16,
    "lenVar": 40
   },
   "kernels_config": {
    "python": {
     "delete_cmd_postfix": "",
     "delete_cmd_prefix": "del ",
     "library": "var_list.py",
     "varRefreshCmd": "print(var_dic_list())"
    },
    "r": {
     "delete_cmd_postfix": ") ",
     "delete_cmd_prefix": "rm(",
     "library": "var_list.r",
     "varRefreshCmd": "cat(var_dic_list()) "
    }
   },
   "types_to_exclude": [
    "module",
    "function",
    "builtin_function_or_method",
    "instance",
    "_Feature"
   ],
   "window_display": false
  }
 },
 "nbformat": 4,
 "nbformat_minor": 4
}
